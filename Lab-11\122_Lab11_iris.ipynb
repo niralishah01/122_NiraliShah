{
  "nbformat": 4,
  "nbformat_minor": 0,
  "metadata": {
    "colab": {
      "name": "122_Lab11_iris.ipynb",
      "provenance": [],
      "authorship_tag": "ABX9TyNTjJVScsVrtp0rlVWszqms"
    },
    "kernelspec": {
      "name": "python3",
      "display_name": "Python 3"
    },
    "language_info": {
      "name": "python"
    }
  },
  "cells": [
    {
      "cell_type": "markdown",
      "metadata": {
        "id": "LBRfUAeJuS6Z"
      },
      "source": [
        "**LAB 11**\n",
        "\n",
        "**AIM: Perform SVM with PCA operations on Iris dataset.**\n",
        "\n",
        "Nirali Shah | CE122"
      ]
    },
    {
      "cell_type": "code",
      "metadata": {
        "id": "KCmeJHbFuQd7"
      },
      "source": [
        "import numpy as np\n",
        "import matplotlib.pyplot as plt\n",
        "import pandas as pd\n"
      ],
      "execution_count": 7,
      "outputs": []
    },
    {
      "cell_type": "code",
      "metadata": {
        "colab": {
          "base_uri": "https://localhost:8080/"
        },
        "id": "_n1R3nKVv-AL",
        "outputId": "86fa5d3e-f611-4e7e-ab7e-888e01b564c5"
      },
      "source": [
        "#load datasets\n",
        "from sklearn import datasets\n",
        "iris=datasets.load_iris()\n",
        "iris.target_names"
      ],
      "execution_count": 2,
      "outputs": [
        {
          "output_type": "execute_result",
          "data": {
            "text/plain": [
              "array(['setosa', 'versicolor', 'virginica'], dtype='<U10')"
            ]
          },
          "metadata": {},
          "execution_count": 2
        }
      ]
    },
    {
      "cell_type": "code",
      "metadata": {
        "colab": {
          "base_uri": "https://localhost:8080/"
        },
        "id": "o-3ZcqnRwNO6",
        "outputId": "8bcd9975-3e2b-4c51-980e-e128e32718bb"
      },
      "source": [
        "from sklearn.model_selection import train_test_split\n",
        "X_train, X_test, Y_train, Y_test = train_test_split(iris.data,iris.target, random_state=122,test_size=0.25)\n",
        "\n",
        "print(X_train.shape, X_test.shape)"
      ],
      "execution_count": 5,
      "outputs": [
        {
          "output_type": "stream",
          "name": "stdout",
          "text": [
            "(112, 4) (38, 4)\n"
          ]
        }
      ]
    },
    {
      "cell_type": "code",
      "metadata": {
        "colab": {
          "base_uri": "https://localhost:8080/"
        },
        "id": "fEJQx3PywYo7",
        "outputId": "b56d25c8-3746-4ad3-fa0d-3b961647c319"
      },
      "source": [
        "from sklearn import svm,decomposition\n",
        "pca=decomposition.PCA(n_components=2,whiten=True)\n",
        "pca.fit(X_train)"
      ],
      "execution_count": 10,
      "outputs": [
        {
          "output_type": "execute_result",
          "data": {
            "text/plain": [
              "PCA(copy=True, iterated_power='auto', n_components=2, random_state=None,\n",
              "    svd_solver='auto', tol=0.0, whiten=True)"
            ]
          },
          "metadata": {},
          "execution_count": 10
        }
      ]
    },
    {
      "cell_type": "code",
      "metadata": {
        "colab": {
          "base_uri": "https://localhost:8080/"
        },
        "id": "bDreQL2TxlUq",
        "outputId": "7bfeb969-799a-43e9-faba-8119ebdffc26"
      },
      "source": [
        "print(pca.components_.shape)"
      ],
      "execution_count": 11,
      "outputs": [
        {
          "output_type": "stream",
          "name": "stdout",
          "text": [
            "(2, 4)\n"
          ]
        }
      ]
    },
    {
      "cell_type": "code",
      "metadata": {
        "colab": {
          "base_uri": "https://localhost:8080/"
        },
        "id": "9NKTaxT9ydqD",
        "outputId": "dbd14f5a-2521-4428-b1f6-1e876fe68b46"
      },
      "source": [
        "#apply dimensionality reduction on X_train and X_test\n",
        "pca_X_train=pca.transform(X_train)\n",
        "pca_X_test=pca.transform(X_test)\n",
        "print(pca_X_train.shape)\n",
        "print(pca_X_test.shape)"
      ],
      "execution_count": 12,
      "outputs": [
        {
          "output_type": "stream",
          "name": "stdout",
          "text": [
            "(112, 2)\n",
            "(38, 2)\n"
          ]
        }
      ]
    },
    {
      "cell_type": "code",
      "metadata": {
        "colab": {
          "base_uri": "https://localhost:8080/"
        },
        "id": "tZaqU_2OzE5w",
        "outputId": "b3225195-b4e9-4f64-d2ac-440c2f58b7f8"
      },
      "source": [
        "from sklearn import svm\n",
        "clf = svm.SVC(C=3.,gamma=0.005, random_state=122)\n",
        "clf.fit(pca_X_train, Y_train)\n"
      ],
      "execution_count": 61,
      "outputs": [
        {
          "output_type": "execute_result",
          "data": {
            "text/plain": [
              "SVC(C=3.0, break_ties=False, cache_size=200, class_weight=None, coef0=0.0,\n",
              "    decision_function_shape='ovr', degree=3, gamma=0.005, kernel='rbf',\n",
              "    max_iter=-1, probability=False, random_state=122, shrinking=True, tol=0.001,\n",
              "    verbose=False)"
            ]
          },
          "metadata": {},
          "execution_count": 61
        }
      ]
    },
    {
      "cell_type": "code",
      "metadata": {
        "colab": {
          "base_uri": "https://localhost:8080/"
        },
        "id": "LXRQgmBp1Bjv",
        "outputId": "4df402f8-5ec1-4577-a04d-b3670437f48b"
      },
      "source": [
        "y_pred=clf.predict(pca_X_test)\n",
        "print(y_pred)"
      ],
      "execution_count": 62,
      "outputs": [
        {
          "output_type": "stream",
          "name": "stdout",
          "text": [
            "[0 2 2 1 2 0 2 0 1 1 2 2 0 1 0 1 2 1 2 1 2 1 1 0 2 1 0 0 1 2 0 1 1 1 2 0 1\n",
            " 1]\n"
          ]
        }
      ]
    },
    {
      "cell_type": "code",
      "metadata": {
        "colab": {
          "base_uri": "https://localhost:8080/"
        },
        "id": "F8wC7LvJ1ZSe",
        "outputId": "eaf54856-8586-4813-bdae-b38742083b93"
      },
      "source": [
        "from sklearn import metrics\n",
        "# Model Accuracy: how often is the classifier correct?\n",
        "print(\"Accuracy:\",metrics.accuracy_score(Y_test, y_pred))\n",
        "# Model Precision: what percentage of positive tuples are labeled as such?\n",
        "print(\"Precision:\",metrics.precision_score(Y_test, y_pred,average='weighted'))\n",
        "# Model Recall: what percentage of positive tuples are labelled as such?\n",
        "print(\"Recall:\",metrics.recall_score(Y_test, y_pred,average='weighted'))"
      ],
      "execution_count": 63,
      "outputs": [
        {
          "output_type": "stream",
          "name": "stdout",
          "text": [
            "Accuracy: 0.8157894736842105\n",
            "Precision: 0.8157894736842105\n",
            "Recall: 0.8157894736842105\n"
          ]
        }
      ]
    },
    {
      "cell_type": "code",
      "metadata": {
        "colab": {
          "base_uri": "https://localhost:8080/"
        },
        "id": "RENreL482HOW",
        "outputId": "b2e36fa6-edf0-41a7-8812-88b7e5fdcb6d"
      },
      "source": [
        "print(metrics.classification_report(Y_test, y_pred))"
      ],
      "execution_count": 64,
      "outputs": [
        {
          "output_type": "stream",
          "name": "stdout",
          "text": [
            "              precision    recall  f1-score   support\n",
            "\n",
            "           0       1.00      1.00      1.00        10\n",
            "           1       0.75      0.80      0.77        15\n",
            "           2       0.75      0.69      0.72        13\n",
            "\n",
            "    accuracy                           0.82        38\n",
            "   macro avg       0.83      0.83      0.83        38\n",
            "weighted avg       0.82      0.82      0.82        38\n",
            "\n"
          ]
        }
      ]
    },
    {
      "cell_type": "code",
      "metadata": {
        "colab": {
          "base_uri": "https://localhost:8080/",
          "height": 241
        },
        "id": "Wyi0ViEK2x9z",
        "outputId": "fb3203e4-f7ce-422f-c4f2-3d200af58f2f"
      },
      "source": [
        "import seaborn as sb\n",
        "cf_mat=metrics.confusion_matrix(y_pred, Y_test)\n",
        "plt.subplots(figsize=(3, 3))\n",
        "sb.heatmap(cf_mat, annot = True, fmt = 'g')\n",
        "plt.xlabel(\"Predicted\")\n",
        "plt.ylabel(\"Actual\")\n",
        "plt.title(\"Confusion Matrix\")\n",
        "plt.show()"
      ],
      "execution_count": 65,
      "outputs": [
        {
          "output_type": "display_data",
          "data": {
            "image/png": "[encoded data removed]",
            "text/plain": [
              "<Figure size 216x216 with 2 Axes>"
            ]
          },
          "metadata": {
            "needs_background": "light"
          }
        }
      ]
    }
  ]
}