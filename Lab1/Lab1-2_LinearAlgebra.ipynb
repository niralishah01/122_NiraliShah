{
  "nbformat": 4,
  "nbformat_minor": 5,
  "metadata": {
    "kernelspec": {
      "name": "python3",
      "display_name": "Python 3.8.0 64-bit"
    },
    "language_info": {
      "name": "python",
      "version": "3.8.0",
      "mimetype": "text/x-python",
      "codemirror_mode": {
        "name": "ipython",
        "version": 3
      },
      "pygments_lexer": "ipython3",
      "nbconvert_exporter": "python",
      "file_extension": ".py"
    },
    "interpreter": {
      "hash": "55739117d3801d03ad9fe7a146a023acc471ca2585f5b37fe3c23afa24f1aaae"
    },
    "colab": {
      "name": "Lab1-2_LinearAlgebra.ipynb",
      "provenance": []
    }
  },
  "cells": [
    {
      "cell_type": "code",
      "metadata": {
        "trusted": true,
        "id": "3qFys-5NtGVb"
      },
      "source": [
        "import numpy as np\n",
        "import pandas as pd"
      ],
      "id": "3qFys-5NtGVb",
      "execution_count": 1,
      "outputs": []
    },
    {
      "cell_type": "code",
      "metadata": {
        "colab": {
          "base_uri": "https://localhost:8080/"
        },
        "id": "4L2X73WytNgP",
        "outputId": "c4d1fbab-00ec-448b-b7fa-88a5e4cde342"
      },
      "source": [
        "from google.colab import drive\n",
        "drive.mount('/content/drive')"
      ],
      "id": "4L2X73WytNgP",
      "execution_count": 2,
      "outputs": [
        {
          "output_type": "stream",
          "text": [
            "Mounted at /content/drive\n"
          ],
          "name": "stdout"
        }
      ]
    },
    {
      "cell_type": "code",
      "metadata": {
        "trusted": true,
        "colab": {
          "base_uri": "https://localhost:8080/"
        },
        "id": "5QAg_YZ5tGVd",
        "outputId": "84d4ca8b-c611-4d48-d86a-7ce68cee6112"
      },
      "source": [
        "#create two numpy array of size 3x2 and 2x3\n",
        "array1=np.array([[1,2],[3,4],[5,6]])\n",
        "array2=np.array([[1,2,3],[4,5,6]])\n",
        "print(array1)\n",
        "print(array2)"
      ],
      "id": "5QAg_YZ5tGVd",
      "execution_count": 3,
      "outputs": [
        {
          "output_type": "stream",
          "text": [
            "[[1 2]\n",
            " [3 4]\n",
            " [5 6]]\n",
            "[[1 2 3]\n",
            " [4 5 6]]\n"
          ],
          "name": "stdout"
        }
      ]
    },
    {
      "cell_type": "code",
      "metadata": {
        "trusted": true,
        "colab": {
          "base_uri": "https://localhost:8080/"
        },
        "id": "AVQbNOQatGVf",
        "outputId": "9df7e30f-4c6d-4c2f-a97e-229edd7579f7"
      },
      "source": [
        "#randomly initialize array\n",
        "array=np.random.rand(3,2)\n",
        "print(array)"
      ],
      "id": "AVQbNOQatGVf",
      "execution_count": 4,
      "outputs": [
        {
          "output_type": "stream",
          "text": [
            "[[0.86584648 0.86923403]\n",
            " [0.73039306 0.55780478]\n",
            " [0.73221476 0.51467967]]\n"
          ],
          "name": "stdout"
        }
      ]
    },
    {
      "cell_type": "code",
      "metadata": {
        "trusted": true,
        "colab": {
          "base_uri": "https://localhost:8080/"
        },
        "id": "jJUZMoD9tGVg",
        "outputId": "b42ec7c3-4bc1-466d-8acc-6149d6c41227"
      },
      "source": [
        "#matrix multiplication\n",
        "mul=np.dot(array1,array2)\n",
        "print(mul)"
      ],
      "id": "jJUZMoD9tGVg",
      "execution_count": 5,
      "outputs": [
        {
          "output_type": "stream",
          "text": [
            "[[ 9 12 15]\n",
            " [19 26 33]\n",
            " [29 40 51]]\n"
          ],
          "name": "stdout"
        }
      ]
    },
    {
      "cell_type": "code",
      "metadata": {
        "trusted": true,
        "colab": {
          "base_uri": "https://localhost:8080/"
        },
        "id": "UPkvjMD4tGVh",
        "outputId": "ae8377ad-9a6c-4c78-8d08-ba228b9265f4"
      },
      "source": [
        "#perform elementwise matrix multiplication\n",
        "mulele1=np.multiply(array1,array1)\n",
        "mulele2=np.multiply(array2,array2)\n",
        "print(mulele1)\n",
        "print(mulele2)"
      ],
      "id": "UPkvjMD4tGVh",
      "execution_count": 6,
      "outputs": [
        {
          "output_type": "stream",
          "text": [
            "[[ 1  4]\n",
            " [ 9 16]\n",
            " [25 36]]\n",
            "[[ 1  4  9]\n",
            " [16 25 36]]\n"
          ],
          "name": "stdout"
        }
      ]
    },
    {
      "cell_type": "code",
      "metadata": {
        "trusted": true,
        "colab": {
          "base_uri": "https://localhost:8080/"
        },
        "id": "yh78w580tGVh",
        "outputId": "050386de-65b8-4d38-b31e-7187e0b30d56"
      },
      "source": [
        "#find mean of first matrix\n",
        "mean=np.mean(array1)\n",
        "print(\"Mean of matrix1:\",mean)"
      ],
      "id": "yh78w580tGVh",
      "execution_count": 7,
      "outputs": [
        {
          "output_type": "stream",
          "text": [
            "Mean of matrix1: 3.5\n"
          ],
          "name": "stdout"
        }
      ]
    },
    {
      "cell_type": "code",
      "metadata": {
        "trusted": true,
        "colab": {
          "base_uri": "https://localhost:8080/"
        },
        "id": "9pkTAjt0tGVi",
        "outputId": "2659caee-b160-46c9-9760-6bf03ccbc065"
      },
      "source": [
        "#Convert Numeric entries(columns) of mtcars.csv to Mean Centered Version\n",
        "data=pd.read_csv('/content/drive/MyDrive/SEM7/ML/Lab1/mtcars.csv')\n",
        "del data['model']\n",
        "meancenter=data.apply(lambda x: x-x.mean())\n",
        "print(meancenter.head())"
      ],
      "id": "9pkTAjt0tGVi",
      "execution_count": 8,
      "outputs": [
        {
          "output_type": "stream",
          "text": [
            "        mpg     cyl        disp       hp  ...      vs       am    gear    carb\n",
            "0  0.909375 -0.1875  -70.721875 -36.6875  ... -0.4375  0.59375  0.3125  1.1875\n",
            "1  0.909375 -0.1875  -70.721875 -36.6875  ... -0.4375  0.59375  0.3125  1.1875\n",
            "2  2.709375 -2.1875 -122.721875 -53.6875  ...  0.5625  0.59375  0.3125 -1.8125\n",
            "3  1.309375 -0.1875   27.278125 -36.6875  ...  0.5625 -0.40625 -0.6875 -1.8125\n",
            "4 -1.390625  1.8125  129.278125  28.3125  ... -0.4375 -0.40625 -0.6875 -0.8125\n",
            "\n",
            "[5 rows x 11 columns]\n"
          ],
          "name": "stdout"
        }
      ]
    },
    {
      "cell_type": "code",
      "metadata": {
        "trusted": true,
        "id": "sgSJrQNAtGVj"
      },
      "source": [
        ""
      ],
      "id": "sgSJrQNAtGVj",
      "execution_count": null,
      "outputs": []
    }
  ]
}