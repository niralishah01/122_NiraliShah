{
  "nbformat": 4,
  "nbformat_minor": 0,
  "metadata": {
    "colab": {
      "name": "lab4_task2.ipynb",
      "provenance": [],
      "authorship_tag": "ABX9TyMPrWPfmnz/GqBcf44mvHIB",
      "include_colab_link": true
    },
    "kernelspec": {
      "display_name": "Python 3",
      "name": "python3"
    },
    "language_info": {
      "name": "python"
    }
  },
  "cells": [
    {
      "cell_type": "markdown",
      "metadata": {
        "id": "view-in-github",
        "colab_type": "text"
      },
      "source": [
        "<a href=\"https://colab.research.google.com/github/niralishah01/122_NiraliShah/blob/main/Lab4/lab4_task2.ipynb\" target=\"_parent\"><img src=\"https://colab.research.google.com/assets/colab-badge.svg\" alt=\"Open In Colab\"/></a>"
      ]
    },
    {
      "cell_type": "code",
      "metadata": {
        "id": "ktK4jwWa4j_i"
      },
      "source": [
        "#Import scikit-learn dataset library\n",
        "from sklearn import datasets\n",
        "from sklearn import preprocessing\n",
        "from sklearn.tree import DecisionTreeClassifier\n",
        "import pandas as pd\n",
        "import numpy as np\n",
        "import matplotlib.pyplot as plt\n"
      ],
      "execution_count": 18,
      "outputs": []
    },
    {
      "cell_type": "code",
      "metadata": {
        "id": "fFQf18tnDfeT"
      },
      "source": [
        "#Load dataset\n",
        "bcancer = datasets.load_breast_cancer()"
      ],
      "execution_count": 19,
      "outputs": []
    },
    {
      "cell_type": "code",
      "metadata": {
        "colab": {
          "base_uri": "https://localhost:8080/"
        },
        "id": "9LLl4PfLECIo",
        "outputId": "205c9f3f-3079-4ce6-a858-ff159674ce78"
      },
      "source": [
        "# print the names of the 30 features\n",
        "print(\"Features: \",bcancer.feature_names)\n",
        "\n",
        "# print the label type of cancer(malignant, benign)\n",
        "print(\"Labels: \",bcancer.target_names)\n",
        "\n",
        "# print data(feature)shape\n",
        "print(\"data shape: \",bcancer.data.shape)\n",
        "\n",
        "#print target shape\n",
        "print(\"target shape: \",bcancer.target.shape)"
      ],
      "execution_count": 29,
      "outputs": [
        {
          "output_type": "stream",
          "name": "stdout",
          "text": [
            "Features:  ['mean radius' 'mean texture' 'mean perimeter' 'mean area'\n",
            " 'mean smoothness' 'mean compactness' 'mean concavity'\n",
            " 'mean concave points' 'mean symmetry' 'mean fractal dimension'\n",
            " 'radius error' 'texture error' 'perimeter error' 'area error'\n",
            " 'smoothness error' 'compactness error' 'concavity error'\n",
            " 'concave points error' 'symmetry error' 'fractal dimension error'\n",
            " 'worst radius' 'worst texture' 'worst perimeter' 'worst area'\n",
            " 'worst smoothness' 'worst compactness' 'worst concavity'\n",
            " 'worst concave points' 'worst symmetry' 'worst fractal dimension']\n",
            "Labels:  ['malignant' 'benign']\n",
            "data shape:  (569, 30)\n",
            "target shape:  (569,)\n"
          ]
        }
      ]
    },
    {
      "cell_type": "code",
      "metadata": {
        "colab": {
          "base_uri": "https://localhost:8080/"
        },
        "id": "B4rnzWgSc7o0",
        "outputId": "401f26c0-7443-4a1b-dbb1-ab3be98867fe"
      },
      "source": [
        "print(bcancer.keys())\n",
        "dataset = pd.DataFrame(bcancer.data, columns=[bcancer.feature_names])\n",
        "#dataset['Target'] = pd.Series(data=bcancer.target, index=dataset.index)\n",
        "dataset['target']=bcancer.target\n",
        "print(dataset.tail())"
      ],
      "execution_count": 30,
      "outputs": [
        {
          "output_type": "stream",
          "name": "stdout",
          "text": [
            "dict_keys(['data', 'target', 'target_names', 'DESCR', 'feature_names', 'filename'])\n",
            "    mean radius mean texture  ... worst fractal dimension target\n",
            "564       21.56        22.39  ...                 0.07115      0\n",
            "565       20.13        28.25  ...                 0.06637      0\n",
            "566       16.60        28.08  ...                 0.07820      0\n",
            "567       20.60        29.33  ...                 0.12400      0\n",
            "568        7.76        24.54  ...                 0.07039      1\n",
            "\n",
            "[5 rows x 31 columns]\n"
          ]
        }
      ]
    },
    {
      "cell_type": "code",
      "metadata": {
        "colab": {
          "base_uri": "https://localhost:8080/"
        },
        "id": "88gPnQyJLoh9",
        "outputId": "46d04da6-131f-4765-9936-f2e49310f399"
      },
      "source": [
        "y_enc=dataset.iloc[:,30]\n",
        "print(y_enc)\n",
        "le=preprocessing.LabelEncoder()\n",
        "y_enc=le.fit_transform(y_enc)\n",
        "print(y_enc)\n",
        "dataset=dataset.drop(['target'],axis=1)\n",
        "print(dataset.tail())\n"
      ],
      "execution_count": 31,
      "outputs": [
        {
          "output_type": "stream",
          "name": "stdout",
          "text": [
            "0      0\n",
            "1      0\n",
            "2      0\n",
            "3      0\n",
            "4      0\n",
            "      ..\n",
            "564    0\n",
            "565    0\n",
            "566    0\n",
            "567    0\n",
            "568    1\n",
            "Name: (target,), Length: 569, dtype: int64\n",
            "[0 0 0 0 0 0 0 0 0 0 0 0 0 0 0 0 0 0 0 1 1 1 0 0 0 0 0 0 0 0 0 0 0 0 0 0 0\n",
            " 1 0 0 0 0 0 0 0 0 1 0 1 1 1 1 1 0 0 1 0 0 1 1 1 1 0 1 0 0 1 1 1 1 0 1 0 0\n",
            " 1 0 1 0 0 1 1 1 0 0 1 0 0 0 1 1 1 0 1 1 0 0 1 1 1 0 0 1 1 1 1 0 1 1 0 1 1\n",
            " 1 1 1 1 1 1 0 0 0 1 0 0 1 1 1 0 0 1 0 1 0 0 1 0 0 1 1 0 1 1 0 1 1 1 1 0 1\n",
            " 1 1 1 1 1 1 1 1 0 1 1 1 1 0 0 1 0 1 1 0 0 1 1 0 0 1 1 1 1 0 1 1 0 0 0 1 0\n",
            " 1 0 1 1 1 0 1 1 0 0 1 0 0 0 0 1 0 0 0 1 0 1 0 1 1 0 1 0 0 0 0 1 1 0 0 1 1\n",
            " 1 0 1 1 1 1 1 0 0 1 1 0 1 1 0 0 1 0 1 1 1 1 0 1 1 1 1 1 0 1 0 0 0 0 0 0 0\n",
            " 0 0 0 0 0 0 0 1 1 1 1 1 1 0 1 0 1 1 0 1 1 0 1 0 0 1 1 1 1 1 1 1 1 1 1 1 1\n",
            " 1 0 1 1 0 1 0 1 1 1 1 1 1 1 1 1 1 1 1 1 1 0 1 1 1 0 1 0 1 1 1 1 0 0 0 1 1\n",
            " 1 1 0 1 0 1 0 1 1 1 0 1 1 1 1 1 1 1 0 0 0 1 1 1 1 1 1 1 1 1 1 1 0 0 1 0 0\n",
            " 0 1 0 0 1 1 1 1 1 0 1 1 1 1 1 0 1 1 1 0 1 1 0 0 1 1 1 1 1 1 0 1 1 1 1 1 1\n",
            " 1 0 1 1 1 1 1 0 1 1 0 1 1 1 1 1 1 1 1 1 1 1 1 0 1 0 0 1 0 1 1 1 1 1 0 1 1\n",
            " 0 1 0 1 1 0 1 0 1 1 1 1 1 1 1 1 0 0 1 1 1 1 1 1 0 1 1 1 1 1 1 1 1 1 1 0 1\n",
            " 1 1 1 1 1 1 0 1 0 1 1 0 1 1 1 1 1 0 0 1 0 1 0 1 1 1 1 1 0 1 1 0 1 0 1 0 0\n",
            " 1 1 1 0 1 1 1 1 1 1 1 1 1 1 1 0 1 0 0 1 1 1 1 1 1 1 1 1 1 1 1 1 1 1 1 1 1\n",
            " 1 1 1 1 1 1 1 0 0 0 0 0 0 1]\n",
            "    mean radius mean texture  ... worst symmetry worst fractal dimension\n",
            "564       21.56        22.39  ...         0.2060                 0.07115\n",
            "565       20.13        28.25  ...         0.2572                 0.06637\n",
            "566       16.60        28.08  ...         0.2218                 0.07820\n",
            "567       20.60        29.33  ...         0.4087                 0.12400\n",
            "568        7.76        24.54  ...         0.2871                 0.07039\n",
            "\n",
            "[5 rows x 30 columns]\n"
          ]
        },
        {
          "output_type": "stream",
          "name": "stderr",
          "text": [
            "/usr/local/lib/python3.7/dist-packages/pandas/core/generic.py:3889: PerformanceWarning: dropping on a non-lexsorted multi-index without a level parameter may impact performance.\n",
            "  obj = obj._drop_axis(labels, axis, level=level, errors=errors)\n"
          ]
        }
      ]
    },
    {
      "cell_type": "code",
      "metadata": {
        "colab": {
          "base_uri": "https://localhost:8080/"
        },
        "id": "MTka7ilpi4Km",
        "outputId": "8b71078b-cec9-414c-a850-e7e12e084114"
      },
      "source": [
        "\n",
        "ohe=preprocessing.OneHotEncoder(dtype=np.int)\n",
        "x_enc=ohe.fit_transform(dataset)\n",
        "print(x_enc)\n",
        "print(ohe.get_feature_names(bcancer.feature_names))\n",
        "print(len(ohe.get_feature_names(bcancer.feature_names)))"
      ],
      "execution_count": 32,
      "outputs": [
        {
          "output_type": "stream",
          "name": "stdout",
          "text": [
            "  (0, 370)\t1\n",
            "  (0, 457)\t1\n",
            "  (0, 1390)\t1\n",
            "  (0, 1909)\t1\n",
            "  (0, 2440)\t1\n",
            "  (0, 3001)\t1\n",
            "  (0, 3528)\t1\n",
            "  (0, 4070)\t1\n",
            "  (0, 4502)\t1\n",
            "  (0, 5001)\t1\n",
            "  (0, 5542)\t1\n",
            "  (0, 5726)\t1\n",
            "  (0, 6596)\t1\n",
            "  (0, 7124)\t1\n",
            "  (0, 7414)\t1\n",
            "  (0, 8173)\t1\n",
            "  (0, 8685)\t1\n",
            "  (0, 9158)\t1\n",
            "  (0, 9704)\t1\n",
            "  (0, 10252)\t1\n",
            "  (0, 10733)\t1\n",
            "  (0, 10806)\t1\n",
            "  (0, 11773)\t1\n",
            "  (0, 12306)\t1\n",
            "  (0, 12692)\t1\n",
            "  :\t:\n",
            "  (568, 2507)\t1\n",
            "  (568, 3007)\t1\n",
            "  (568, 3544)\t1\n",
            "  (568, 4177)\t1\n",
            "  (568, 4666)\t1\n",
            "  (568, 5347)\t1\n",
            "  (568, 5923)\t1\n",
            "  (568, 6377)\t1\n",
            "  (568, 6761)\t1\n",
            "  (568, 7482)\t1\n",
            "  (568, 7688)\t1\n",
            "  (568, 8225)\t1\n",
            "  (568, 8758)\t1\n",
            "  (568, 9671)\t1\n",
            "  (568, 9985)\t1\n",
            "  (568, 10316)\t1\n",
            "  (568, 11152)\t1\n",
            "  (568, 11283)\t1\n",
            "  (568, 11797)\t1\n",
            "  (568, 12344)\t1\n",
            "  (568, 12762)\t1\n",
            "  (568, 13274)\t1\n",
            "  (568, 13813)\t1\n",
            "  (568, 14577)\t1\n",
            "  (568, 14926)\t1\n",
            "['mean radius_6.981' 'mean radius_7.691' 'mean radius_7.729' ...\n",
            " 'worst fractal dimension_0.1486' 'worst fractal dimension_0.173'\n",
            " 'worst fractal dimension_0.2075']\n",
            "15340\n"
          ]
        }
      ]
    },
    {
      "cell_type": "code",
      "metadata": {
        "colab": {
          "base_uri": "https://localhost:8080/"
        },
        "id": "GOdvIttZycYz",
        "outputId": "013f7006-467d-40d5-a14c-af2eb2b5ad3d"
      },
      "source": [
        "from pandas.core.common import random_state\n",
        "#train test division(50%-50%)\n",
        "from sklearn.model_selection import train_test_split\n",
        "X_train, X_test, Y_train, Y_test = train_test_split(x_enc,y_enc, test_size = 0.50,random_state=122)\n",
        "print(X_train)"
      ],
      "execution_count": 44,
      "outputs": [
        {
          "output_type": "stream",
          "name": "stdout",
          "text": [
            "  (0, 435)\t1\n",
            "  (0, 755)\t1\n",
            "  (0, 1433)\t1\n",
            "  (0, 1974)\t1\n",
            "  (0, 2271)\t1\n",
            "  (0, 2837)\t1\n",
            "  (0, 3446)\t1\n",
            "  (0, 4050)\t1\n",
            "  (0, 4160)\t1\n",
            "  (0, 4607)\t1\n",
            "  (0, 5483)\t1\n",
            "  (0, 5903)\t1\n",
            "  (0, 6532)\t1\n",
            "  (0, 7070)\t1\n",
            "  (0, 7312)\t1\n",
            "  (0, 7955)\t1\n",
            "  (0, 8548)\t1\n",
            "  (0, 9132)\t1\n",
            "  (0, 9269)\t1\n",
            "  (0, 9891)\t1\n",
            "  (0, 10736)\t1\n",
            "  (0, 11197)\t1\n",
            "  (0, 11759)\t1\n",
            "  (0, 12307)\t1\n",
            "  (0, 12571)\t1\n",
            "  :\t:\n",
            "  (283, 2708)\t1\n",
            "  (283, 3288)\t1\n",
            "  (283, 3868)\t1\n",
            "  (283, 4133)\t1\n",
            "  (283, 4635)\t1\n",
            "  (283, 5147)\t1\n",
            "  (283, 5980)\t1\n",
            "  (283, 6205)\t1\n",
            "  (283, 6818)\t1\n",
            "  (283, 7304)\t1\n",
            "  (283, 7828)\t1\n",
            "  (283, 8446)\t1\n",
            "  (283, 9045)\t1\n",
            "  (283, 9537)\t1\n",
            "  (283, 9840)\t1\n",
            "  (283, 10567)\t1\n",
            "  (283, 11116)\t1\n",
            "  (283, 11587)\t1\n",
            "  (283, 12117)\t1\n",
            "  (283, 12477)\t1\n",
            "  (283, 12868)\t1\n",
            "  (283, 13476)\t1\n",
            "  (283, 14060)\t1\n",
            "  (283, 14387)\t1\n",
            "  (283, 14864)\t1\n"
          ]
        }
      ]
    },
    {
      "cell_type": "code",
      "metadata": {
        "colab": {
          "base_uri": "https://localhost:8080/"
        },
        "id": "2ZK7rz3dycks",
        "outputId": "cb9c3e94-5f3c-429e-dc5f-b2901974d9db"
      },
      "source": [
        "#create DecisionTree model\n",
        "dtc=DecisionTreeClassifier(criterion=\"entropy\",random_state=122,max_leaf_nodes=122)\n",
        "dtc.fit(X_train,Y_train)"
      ],
      "execution_count": 45,
      "outputs": [
        {
          "output_type": "execute_result",
          "data": {
            "text/plain": [
              "DecisionTreeClassifier(ccp_alpha=0.0, class_weight=None, criterion='entropy',\n",
              "                       max_depth=None, max_features=None, max_leaf_nodes=122,\n",
              "                       min_impurity_decrease=0.0, min_impurity_split=None,\n",
              "                       min_samples_leaf=1, min_samples_split=2,\n",
              "                       min_weight_fraction_leaf=0.0, presort='deprecated',\n",
              "                       random_state=122, splitter='best')"
            ]
          },
          "metadata": {},
          "execution_count": 45
        }
      ]
    },
    {
      "cell_type": "code",
      "metadata": {
        "colab": {
          "base_uri": "https://localhost:8080/"
        },
        "id": "d57gyIIWzEHB",
        "outputId": "d8d6f500-eecd-48cd-b889-9e73d0196c61"
      },
      "source": [
        "pred_op=dtc.predict(X_test)\n",
        "print(\"predicted output: \",pred_op)\n",
        "print(\"actual test output: \",Y_test)"
      ],
      "execution_count": 47,
      "outputs": [
        {
          "output_type": "stream",
          "name": "stdout",
          "text": [
            "predicted output:  [1 1 1 1 1 1 1 1 1 1 1 1 1 1 1 1 1 1 1 1 1 1 1 1 1 1 1 1 1 1 1 1 1 1 1 1 1\n",
            " 1 1 1 1 1 1 1 1 1 1 1 1 1 1 1 1 1 1 0 1 1 1 1 1 1 1 1 1 1 1 1 0 1 1 1 1 1\n",
            " 1 1 1 1 1 1 1 1 1 1 1 1 1 1 1 1 1 1 1 1 1 1 1 1 1 1 1 1 1 1 1 1 1 1 1 1 1\n",
            " 1 1 1 1 1 1 1 1 1 1 1 1 0 1 1 1 1 1 1 1 1 1 1 1 1 1 1 1 1 1 0 1 1 1 1 1 1\n",
            " 1 1 1 1 1 1 1 0 1 1 1 1 1 1 1 1 1 1 1 1 1 1 1 1 1 1 1 1 1 1 1 1 1 1 1 1 1\n",
            " 1 1 1 1 1 1 1 1 1 1 1 1 1 1 1 1 1 1 1 1 1 1 1 1 0 1 1 1 1 1 1 1 1 1 1 1 1\n",
            " 1 1 1 1 1 1 1 1 1 1 1 1 1 1 1 1 0 0 1 1 1 1 1 1 1 1 1 1 1 1 1 1 1 1 1 1 1\n",
            " 1 1 1 1 1 1 1 1 1 1 1 1 1 1 1 1 1 1 1 1 1 1 1 1 1 1]\n",
            "actual test output:  [1 1 1 0 1 1 1 0 1 1 0 0 0 1 1 1 0 1 1 1 0 1 0 0 1 1 1 0 1 1 1 0 1 0 0 1 1\n",
            " 1 1 1 1 1 1 0 1 0 0 1 0 0 1 1 1 1 1 0 1 1 1 1 1 1 0 1 1 1 1 1 0 1 1 1 0 0\n",
            " 1 1 0 1 0 1 1 1 1 1 0 1 0 1 0 0 1 1 0 1 1 0 0 1 1 1 1 1 0 1 1 1 1 0 1 0 1\n",
            " 1 1 1 0 1 1 1 0 0 1 1 0 1 0 0 1 1 1 1 1 0 0 1 0 0 1 1 0 1 0 0 1 0 1 1 0 1\n",
            " 1 0 0 0 1 0 1 0 0 1 0 0 1 1 1 1 1 1 1 1 1 1 0 0 1 0 1 1 0 0 1 0 1 1 0 0 1\n",
            " 0 1 1 1 0 1 1 0 1 1 0 1 0 0 1 1 1 0 1 1 1 0 1 1 1 0 1 1 1 1 1 0 1 1 1 1 0\n",
            " 0 1 1 1 1 1 1 0 0 1 1 1 1 1 1 1 1 0 0 1 0 1 1 0 0 1 1 0 1 0 1 1 1 1 1 1 1\n",
            " 1 1 1 1 1 1 0 1 1 1 0 1 1 0 0 1 1 0 1 0 0 1 1 1 1 0]\n"
          ]
        }
      ]
    },
    {
      "cell_type": "code",
      "metadata": {
        "colab": {
          "base_uri": "https://localhost:8080/"
        },
        "id": "q62TRQEwzJTO",
        "outputId": "0567b741-d3be-46eb-bab9-e590952bb3b2"
      },
      "source": [
        "from sklearn import metrics\n",
        "print(\"Accuracy is :- \",metrics.accuracy_score(Y_test, pred_op))\n",
        "from sklearn.metrics import precision_score\n",
        "from sklearn.metrics import recall_score\n",
        "\n",
        "precision = precision_score(Y_test, pred_op)\n",
        "recall = recall_score(Y_test, pred_op)\n",
        "\n",
        "print(\"precision :- \",precision)\n",
        "print(\"recall :- \",recall)"
      ],
      "execution_count": 48,
      "outputs": [
        {
          "output_type": "stream",
          "name": "stdout",
          "text": [
            "Accuracy is :-  0.6736842105263158\n",
            "precision :-  0.6750902527075813\n",
            "recall :-  0.9842105263157894\n"
          ]
        }
      ]
    },
    {
      "cell_type": "code",
      "metadata": {
        "id": "qo9tbhdTzPtV"
      },
      "source": [
        "from sklearn.tree import export_graphviz\n",
        "\n",
        "export_graphviz(dtc,out_file='tree_entropy.dot',\n",
        "              feature_names=ohe.get_feature_names(bcancer.feature_names),class_names=list(bcancer.target_names), \n",
        "              filled=True,max_depth=122)\n",
        "\n",
        "#convert to png\n",
        "from subprocess import call\n",
        "call(['dot', '-Tpng', 'tree_entropy.dot', '-o', 'tree_entropy.png', '-Gdpi=600'])\n",
        "\n",
        "# Display in python\n",
        "import matplotlib.pyplot as plt\n",
        "plt.figure(figsize = (14, 18))\n",
        "plt.imshow(plt.imread('tree_entropy.png'))\n",
        "plt.axis('off');\n",
        "plt.show();"
      ],
      "execution_count": null,
      "outputs": []
    },
    {
      "cell_type": "code",
      "metadata": {
        "colab": {
          "base_uri": "https://localhost:8080/",
          "height": 360
        },
        "id": "1io4i__F0QCN",
        "outputId": "57f7e860-e48b-4b6d-f273-ced5aead0488"
      },
      "source": [
        "from sklearn.metrics import confusion_matrix\n",
        "\n",
        "confusion_matrix(Y_test, pred_op)\n",
        "disp = metrics.plot_confusion_matrix(dtc, X_test, Y_test)\n",
        "disp.figure_.suptitle(\"Confusion Matrix\")\n",
        "print(\"Confusion matrix:\\n\",disp.confusion_matrix)\n",
        "\n",
        "plt.show()"
      ],
      "execution_count": 49,
      "outputs": [
        {
          "output_type": "stream",
          "name": "stdout",
          "text": [
            "Confusion matrix:\n",
            " [[  5  90]\n",
            " [  3 187]]\n"
          ]
        },
        {
          "output_type": "display_data",
          "data": {
            "image/png": "[encoded data removed]",
            "text/plain": [
              "<Figure size 432x288 with 2 Axes>"
            ]
          },
          "metadata": {
            "needs_background": "light"
          }
        }
      ]
    }
  ]
}