{
  "nbformat": 4,
  "nbformat_minor": 0,
  "metadata": {
    "colab": {
      "name": "122_Lab11_breast_cancer.ipynb",
      "provenance": [],
      "authorship_tag": "ABX9TyO3bbkrcjsyZrlOrkfAMdF8"
    },
    "kernelspec": {
      "name": "python3",
      "display_name": "Python 3"
    },
    "language_info": {
      "name": "python"
    }
  },
  "cells": [
    {
      "cell_type": "markdown",
      "metadata": {
        "id": "ig2PB0CuBDKL"
      },
      "source": [
        "**LAB 11**\n",
        "\n",
        "**AIM: Perform SVM with PCA operations on Breast Cancer dataset.**\n",
        "\n",
        "Nirali Shah | CE122"
      ]
    },
    {
      "cell_type": "code",
      "metadata": {
        "id": "O4XFfdauA8mj"
      },
      "source": [
        "import numpy as np\n",
        "import matplotlib.pyplot as plt\n",
        "import pandas as pd"
      ],
      "execution_count": 1,
      "outputs": []
    },
    {
      "cell_type": "code",
      "metadata": {
        "colab": {
          "base_uri": "https://localhost:8080/"
        },
        "id": "bM_1NqiQBLlG",
        "outputId": "12ea60e1-7a96-49df-b7ff-a04e41e6d339"
      },
      "source": [
        "#load datasets\n",
        "from sklearn import datasets\n",
        "bcancer=datasets.load_breast_cancer()\n",
        "bcancer.target_names"
      ],
      "execution_count": 2,
      "outputs": [
        {
          "output_type": "execute_result",
          "data": {
            "text/plain": [
              "array(['malignant', 'benign'], dtype='<U9')"
            ]
          },
          "metadata": {},
          "execution_count": 2
        }
      ]
    },
    {
      "cell_type": "code",
      "metadata": {
        "colab": {
          "base_uri": "https://localhost:8080/"
        },
        "id": "OP0VU2jFBQaz",
        "outputId": "805a5892-233f-4152-dfb8-ff9f8487a548"
      },
      "source": [
        "from sklearn.model_selection import train_test_split\n",
        "X_train, X_test, Y_train, Y_test = train_test_split(bcancer.data,bcancer.target, random_state=122,test_size=0.3)\n",
        "\n",
        "print(X_train.shape, X_test.shape)"
      ],
      "execution_count": 3,
      "outputs": [
        {
          "output_type": "stream",
          "name": "stdout",
          "text": [
            "(398, 30) (171, 30)\n"
          ]
        }
      ]
    },
    {
      "cell_type": "code",
      "metadata": {
        "colab": {
          "base_uri": "https://localhost:8080/"
        },
        "id": "txidma1fBh95",
        "outputId": "65d21d30-aff3-4021-adb7-0b788d2f3f1a"
      },
      "source": [
        "from sklearn import svm,decomposition\n",
        "pca=decomposition.PCA(n_components=15,whiten=True)\n",
        "pca.fit(X_train)"
      ],
      "execution_count": 6,
      "outputs": [
        {
          "output_type": "execute_result",
          "data": {
            "text/plain": [
              "PCA(copy=True, iterated_power='auto', n_components=15, random_state=None,\n",
              "    svd_solver='auto', tol=0.0, whiten=True)"
            ]
          },
          "metadata": {},
          "execution_count": 6
        }
      ]
    },
    {
      "cell_type": "code",
      "metadata": {
        "colab": {
          "base_uri": "https://localhost:8080/"
        },
        "id": "fqaR3tEEBjHr",
        "outputId": "04ff299a-9e6a-463f-bfcb-47408a4aa3a9"
      },
      "source": [
        "print(pca.components_.shape)"
      ],
      "execution_count": 7,
      "outputs": [
        {
          "output_type": "stream",
          "name": "stdout",
          "text": [
            "(15, 30)\n"
          ]
        }
      ]
    },
    {
      "cell_type": "code",
      "metadata": {
        "colab": {
          "base_uri": "https://localhost:8080/"
        },
        "id": "-1pgwDbqBlsR",
        "outputId": "d5b8ba4a-4121-4af7-d769-4c14a7d62e15"
      },
      "source": [
        "#apply dimensionality reduction on X_train and X_test\n",
        "pca_X_train=pca.transform(X_train)\n",
        "pca_X_test=pca.transform(X_test)\n",
        "print(pca_X_train.shape)\n",
        "print(pca_X_test.shape)"
      ],
      "execution_count": 8,
      "outputs": [
        {
          "output_type": "stream",
          "name": "stdout",
          "text": [
            "(398, 15)\n",
            "(171, 15)\n"
          ]
        }
      ]
    },
    {
      "cell_type": "code",
      "metadata": {
        "colab": {
          "base_uri": "https://localhost:8080/"
        },
        "id": "AUrygi6CBqRs",
        "outputId": "502af0fa-2f7c-4c4e-e0d2-3fce9db3172c"
      },
      "source": [
        "from sklearn import svm\n",
        "clf = svm.SVC(C=3.,gamma=0.005, random_state=122)\n",
        "clf.fit(pca_X_train, Y_train)"
      ],
      "execution_count": 9,
      "outputs": [
        {
          "output_type": "execute_result",
          "data": {
            "text/plain": [
              "SVC(C=3.0, break_ties=False, cache_size=200, class_weight=None, coef0=0.0,\n",
              "    decision_function_shape='ovr', degree=3, gamma=0.005, kernel='rbf',\n",
              "    max_iter=-1, probability=False, random_state=122, shrinking=True, tol=0.001,\n",
              "    verbose=False)"
            ]
          },
          "metadata": {},
          "execution_count": 9
        }
      ]
    },
    {
      "cell_type": "code",
      "metadata": {
        "colab": {
          "base_uri": "https://localhost:8080/"
        },
        "id": "FrVG4eGhBsv_",
        "outputId": "646ec4c3-99a1-4bd1-e859-dd10352b1aac"
      },
      "source": [
        "y_pred=clf.predict(pca_X_test)\n",
        "print(y_pred)"
      ],
      "execution_count": 10,
      "outputs": [
        {
          "output_type": "stream",
          "name": "stdout",
          "text": [
            "[1 1 1 0 1 1 1 0 1 1 0 0 0 1 1 1 0 1 1 1 0 1 0 0 1 1 1 0 0 1 1 0 1 0 0 1 1\n",
            " 1 1 1 1 1 1 0 1 0 0 1 0 0 1 1 1 1 1 0 1 1 1 1 1 1 0 1 1 1 1 1 0 1 1 1 0 1\n",
            " 1 1 0 1 0 1 1 1 1 1 0 1 0 1 0 0 1 1 0 1 1 0 0 1 1 1 1 1 0 1 1 1 1 0 1 0 1\n",
            " 1 1 1 0 1 1 1 0 0 1 1 0 1 0 0 1 1 1 1 1 0 0 1 0 1 1 1 1 1 0 0 0 0 1 1 0 1\n",
            " 1 0 0 0 1 0 1 0 0 1 0 0 1 1 1 1 1 1 1 1 1 1 0]\n"
          ]
        }
      ]
    },
    {
      "cell_type": "code",
      "metadata": {
        "colab": {
          "base_uri": "https://localhost:8080/"
        },
        "id": "s9qSf_5TBwJs",
        "outputId": "9fa56fab-3436-4910-8ef9-88254c6248f6"
      },
      "source": [
        "from sklearn import metrics\n",
        "# Model Accuracy: how often is the classifier correct?\n",
        "print(\"Accuracy:\",metrics.accuracy_score(Y_test, y_pred))\n",
        "# Model Precision: what percentage of positive tuples are labeled as such?\n",
        "print(\"Precision:\",metrics.precision_score(Y_test, y_pred,average='weighted'))\n",
        "# Model Recall: what percentage of positive tuples are labelled as such?\n",
        "print(\"Recall:\",metrics.recall_score(Y_test, y_pred,average='weighted'))"
      ],
      "execution_count": 11,
      "outputs": [
        {
          "output_type": "stream",
          "name": "stdout",
          "text": [
            "Accuracy: 0.9707602339181286\n",
            "Precision: 0.9707138357540683\n",
            "Recall: 0.9707602339181286\n"
          ]
        }
      ]
    },
    {
      "cell_type": "code",
      "metadata": {
        "colab": {
          "base_uri": "https://localhost:8080/"
        },
        "id": "WrT2Jg9EBygw",
        "outputId": "1137c254-81ac-4fb6-f8ff-584131ef48dc"
      },
      "source": [
        "print(metrics.classification_report(Y_test, y_pred))"
      ],
      "execution_count": 12,
      "outputs": [
        {
          "output_type": "stream",
          "name": "stdout",
          "text": [
            "              precision    recall  f1-score   support\n",
            "\n",
            "           0       0.97      0.95      0.96        59\n",
            "           1       0.97      0.98      0.98       112\n",
            "\n",
            "    accuracy                           0.97       171\n",
            "   macro avg       0.97      0.97      0.97       171\n",
            "weighted avg       0.97      0.97      0.97       171\n",
            "\n"
          ]
        }
      ]
    },
    {
      "cell_type": "code",
      "metadata": {
        "colab": {
          "base_uri": "https://localhost:8080/",
          "height": 295
        },
        "id": "xaU5pVWvB5Yn",
        "outputId": "4eb17429-2916-4a76-e4a3-974adceb1f49"
      },
      "source": [
        "import seaborn as sb\n",
        "cf_mat=metrics.confusion_matrix(y_pred, Y_test)\n",
        "plt.subplots(figsize=(4,4))\n",
        "sb.heatmap(cf_mat, annot = True, fmt = 'g')\n",
        "plt.xlabel(\"Predicted\")\n",
        "plt.ylabel(\"Actual\")\n",
        "plt.title(\"Confusion Matrix\")\n",
        "plt.show()"
      ],
      "execution_count": 15,
      "outputs": [
        {
          "output_type": "display_data",
          "data": {
            "image/png": "[encoded data removed]",
            "text/plain": [
              "<Figure size 288x288 with 2 Axes>"
            ]
          },
          "metadata": {
            "needs_background": "light"
          }
        }
      ]
    }
  ]
}