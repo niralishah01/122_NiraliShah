{
  "nbformat": 4,
  "nbformat_minor": 0,
  "metadata": {
    "colab": {
      "name": "Lab5_task1.ipynb",
      "provenance": [],
      "collapsed_sections": [],
      "authorship_tag": "ABX9TyP1BO7XXc1QIzlDq6E6CT0A",
      "include_colab_link": true
    },
    "kernelspec": {
      "name": "python3",
      "display_name": "Python 3"
    },
    "language_info": {
      "name": "python"
    }
  },
  "cells": [
    {
      "cell_type": "markdown",
      "metadata": {
        "id": "view-in-github",
        "colab_type": "text"
      },
      "source": [
        "<a href=\"https://colab.research.google.com/github/niralishah01/122_NiraliShah/blob/main/Lab5_task1.ipynb\" target=\"_parent\"><img src=\"https://colab.research.google.com/assets/colab-badge.svg\" alt=\"Open In Colab\"/></a>"
      ]
    },
    {
      "cell_type": "code",
      "metadata": {
        "id": "rqnZ-e94H_f-"
      },
      "source": [
        "import numpy as np\n",
        "import matplotlib.pyplot as plt\n",
        "import pandas as pd"
      ],
      "execution_count": 58,
      "outputs": []
    },
    {
      "cell_type": "code",
      "metadata": {
        "id": "cy2Eb_7CIGbt"
      },
      "source": [
        "# Input (temp, rainfall, humidity)\n",
        "inputs = np.array([[73, 67, 43], [91, 88, 64], [87, 134, 58], [102, 43, 37], [69, 96, 70], [73, 67, 43], [91, 88, 64], [87, 134, 58], [102, 43, 37], [69, 96, 70], [73, 67, 43], [91, 88, 64], [87, 134, 58], [102, 43, 37], [69, 96, 70]], dtype='float32')\n",
        "# Targets (apples)\n",
        "# only for apples\n",
        "targets = np.array([[56], [81], [119], [22], [103], \n",
        "                    [56], [81], [119], [22], [103], \n",
        "                    [56], [81], [119], [22], [103]], dtype='float32')"
      ],
      "execution_count": 59,
      "outputs": []
    },
    {
      "cell_type": "code",
      "metadata": {
        "colab": {
          "base_uri": "https://localhost:8080/"
        },
        "id": "hVfuercDIJ_h",
        "outputId": "94e7fec3-1663-45ea-c961-85b4eb53f0fe"
      },
      "source": [
        "#normalize the input\n",
        "mu = np.mean(inputs, 0)\n",
        "sigma = np.std(inputs, 0)\n",
        "X = (inputs-mu) / sigma\n",
        "X = np.hstack((np.ones((targets.size,1)),X))\n",
        "print(X)\n",
        "print(X.shape)"
      ],
      "execution_count": 60,
      "outputs": [
        {
          "output_type": "stream",
          "name": "stdout",
          "text": [
            "[[ 1.         -0.94528544 -0.61208057 -0.91202933]\n",
            " [ 1.          0.54727036  0.07897819  0.7680245 ]\n",
            " [ 1.          0.21559127  1.59272587  0.28800911]\n",
            " [ 1.          1.45938778 -1.40186191 -1.39204478]\n",
            " [ 1.         -1.27696455  0.34223866  1.24803984]\n",
            " [ 1.         -0.94528544 -0.61208057 -0.91202933]\n",
            " [ 1.          0.54727036  0.07897819  0.7680245 ]\n",
            " [ 1.          0.21559127  1.59272587  0.28800911]\n",
            " [ 1.          1.45938778 -1.40186191 -1.39204478]\n",
            " [ 1.         -1.27696455  0.34223866  1.24803984]\n",
            " [ 1.         -0.94528544 -0.61208057 -0.91202933]\n",
            " [ 1.          0.54727036  0.07897819  0.7680245 ]\n",
            " [ 1.          0.21559127  1.59272587  0.28800911]\n",
            " [ 1.          1.45938778 -1.40186191 -1.39204478]\n",
            " [ 1.         -1.27696455  0.34223866  1.24803984]]\n",
            "(15, 4)\n"
          ]
        }
      ]
    },
    {
      "cell_type": "code",
      "metadata": {
        "colab": {
          "base_uri": "https://localhost:8080/"
        },
        "id": "3QJiaMYFIaFZ",
        "outputId": "1ec7f6e8-2881-4490-ee23-80aa2d933113"
      },
      "source": [
        "rg = np.random.default_rng(seed=122)\n",
        "w = rg.random((1,4))\n",
        "print(w)"
      ],
      "execution_count": 61,
      "outputs": [
        {
          "output_type": "stream",
          "name": "stdout",
          "text": [
            "[[0.82535258 0.175624   0.37758445 0.20931232]]\n"
          ]
        }
      ]
    },
    {
      "cell_type": "code",
      "metadata": {
        "id": "tGNwPv_qIbrS"
      },
      "source": [
        "#create model\n",
        "def model(X,w):\n",
        "  return (X @ w.T)\n"
      ],
      "execution_count": 62,
      "outputs": []
    },
    {
      "cell_type": "code",
      "metadata": {
        "colab": {
          "base_uri": "https://localhost:8080/"
        },
        "id": "BVhdfVvs8czG",
        "outputId": "3a581797-2839-4bbf-9537-ac8147fb16f6"
      },
      "source": [
        "# Generate predictions\n",
        "preds = model(X,w)\n",
        "print(preds)"
      ],
      "execution_count": 63,
      "outputs": [
        {
          "output_type": "stream",
          "name": "stdout",
          "text": [
            "[[0.23732668]\n",
            " [1.11204431]\n",
            " [1.52488796]\n",
            " [0.26096272]\n",
            " [0.99154107]\n",
            " [0.23732668]\n",
            " [1.11204431]\n",
            " [1.52488796]\n",
            " [0.26096272]\n",
            " [0.99154107]\n",
            " [0.23732668]\n",
            " [1.11204431]\n",
            " [1.52488796]\n",
            " [0.26096272]\n",
            " [0.99154107]]\n"
          ]
        }
      ]
    },
    {
      "cell_type": "code",
      "metadata": {
        "colab": {
          "base_uri": "https://localhost:8080/"
        },
        "id": "73rTu-5n8fNk",
        "outputId": "23e61c36-2422-47f9-d036-1185dfb32a3a"
      },
      "source": [
        "# Compare with targets\n",
        "print(targets)"
      ],
      "execution_count": 64,
      "outputs": [
        {
          "output_type": "stream",
          "name": "stdout",
          "text": [
            "[[ 56.]\n",
            " [ 81.]\n",
            " [119.]\n",
            " [ 22.]\n",
            " [103.]\n",
            " [ 56.]\n",
            " [ 81.]\n",
            " [119.]\n",
            " [ 22.]\n",
            " [103.]\n",
            " [ 56.]\n",
            " [ 81.]\n",
            " [119.]\n",
            " [ 22.]\n",
            " [103.]]\n"
          ]
        }
      ]
    },
    {
      "cell_type": "code",
      "metadata": {
        "id": "4GAGryBY2WZs"
      },
      "source": [
        "# MSE loss\n",
        "def mse(pred,targ):\n",
        "  diff=pred-targ\n",
        "  return np.sum(diff*diff)/diff.size"
      ],
      "execution_count": 65,
      "outputs": []
    },
    {
      "cell_type": "code",
      "metadata": {
        "colab": {
          "base_uri": "https://localhost:8080/"
        },
        "id": "GC9j3V4N2qZ3",
        "outputId": "b4f1a44d-c111-436d-8f07-7685f9ab9c24"
      },
      "source": [
        "# Compute loss\n",
        "mse_loss=mse(preds,targets)\n",
        "print(\"before regression cost is: \",mse_loss)"
      ],
      "execution_count": 66,
      "outputs": [
        {
          "output_type": "stream",
          "name": "stdout",
          "text": [
            "before regression cost is:  6834.054916830895\n"
          ]
        }
      ]
    },
    {
      "cell_type": "code",
      "metadata": {
        "id": "58Qaz60k4Fl6"
      },
      "source": [
        "# Gradients for weights\n",
        "def gradient_descent_weight(X, y, w, learning_rate):\n",
        "  history = np.zeros([1])\n",
        "  h = X@w.T\n",
        "  diff = h - y\n",
        "  delta = (learning_rate / y.size) * (X.T@diff)\n",
        "  new_w = w - delta.T\n",
        "  w = new_w\n",
        "  history = mse(h, y)\n",
        "  return (history, w)"
      ],
      "execution_count": 51,
      "outputs": []
    },
    {
      "cell_type": "code",
      "metadata": {
        "id": "Y4m_Fe_64P_H",
        "colab": {
          "base_uri": "https://localhost:8080/"
        },
        "outputId": "38782f67-2707-4846-8b96-255023c873d9"
      },
      "source": [
        "learning_rate=0.01\n",
        "(history,w)=gradient_descent_weight(X, targets, w, learning_rate)\n",
        "# (history,b)=gradient_descent_bias(X,targets,b,learning_rate)\n",
        "# Generate predictions\n",
        "preds = model(X,w)\n",
        "print(preds)\n",
        "# Compare with targets\n",
        "print(targets)"
      ],
      "execution_count": 67,
      "outputs": [
        {
          "output_type": "stream",
          "name": "stdout",
          "text": [
            "[[ 0.68817076]\n",
            " [ 2.01884885]\n",
            " [ 2.84615136]\n",
            " [-0.07785907]\n",
            " [ 2.42018321]\n",
            " [ 0.68817076]\n",
            " [ 2.01884885]\n",
            " [ 2.84615136]\n",
            " [-0.07785907]\n",
            " [ 2.42018321]\n",
            " [ 0.68817076]\n",
            " [ 2.01884885]\n",
            " [ 2.84615136]\n",
            " [-0.07785907]\n",
            " [ 2.42018321]]\n",
            "[[ 56.]\n",
            " [ 81.]\n",
            " [119.]\n",
            " [ 22.]\n",
            " [103.]\n",
            " [ 56.]\n",
            " [ 81.]\n",
            " [119.]\n",
            " [ 22.]\n",
            " [103.]\n",
            " [ 56.]\n",
            " [ 81.]\n",
            " [119.]\n",
            " [ 22.]\n",
            " [103.]]\n"
          ]
        }
      ]
    },
    {
      "cell_type": "code",
      "metadata": {
        "colab": {
          "base_uri": "https://localhost:8080/"
        },
        "id": "a3zpQO4eJZFA",
        "outputId": "01d586a9-53c8-4972-8697-53e70b812e40"
      },
      "source": [
        "n_iters=200\n",
        "history = np.zeros((n_iters, 1))\n",
        "for i in range(n_iters):\n",
        "  (history[i], w) = gradient_descent_weight(X, targets, w, learning_rate)\n",
        "print(\"optimal parameters: \",w)\n",
        "print(\"final cost: \",history[-1])"
      ],
      "execution_count": 68,
      "outputs": [
        {
          "output_type": "stream",
          "name": "stdout",
          "text": [
            "optimal parameters:  [[66.20231602 -5.16587675 20.57469822 12.55654418]]\n",
            "final cost:  [117.5942513]\n"
          ]
        }
      ]
    },
    {
      "cell_type": "code",
      "metadata": {
        "colab": {
          "base_uri": "https://localhost:8080/",
          "height": 295
        },
        "id": "_iGnD1eaLE89",
        "outputId": "87a40e93-b4df-42d0-abd9-30a46ccdf9f6"
      },
      "source": [
        "import matplotlib.pyplot as plt\n",
        "\n",
        "plt.plot(range(len(history)), history, 'g')\n",
        "plt.title(\"Convergence Graph of Cost Function\")\n",
        "plt.xlabel(\"Number of Iterations\")\n",
        "plt.ylabel(\"Cost\")\n",
        "plt.show()"
      ],
      "execution_count": 70,
      "outputs": [
        {
          "output_type": "display_data",
          "data": {
            "image/png": "[encoded data removed]",
            "text/plain": [
              "<Figure size 432x288 with 1 Axes>"
            ]
          },
          "metadata": {
            "needs_background": "light"
          }
        }
      ]
    },
    {
      "cell_type": "code",
      "metadata": {
        "colab": {
          "base_uri": "https://localhost:8080/"
        },
        "id": "_QflWR0zLwno",
        "outputId": "df1d0fec-02c5-4f80-8e04-bac8ea862ecb"
      },
      "source": [
        "# Calculate error\n",
        "preds = model(X, w)\n",
        "cost_final = mse(preds, targets)\n",
        "# Print predictions\n",
        "print(\"Prediction:\\n\",preds)\n",
        "# Comparing predicted with targets\n",
        "print(\"Targets:\\n\", targets)"
      ],
      "execution_count": 72,
      "outputs": [
        {
          "output_type": "stream",
          "name": "stdout",
          "text": [
            "Prediction:\n",
            " [[ 47.04023446]\n",
            " [ 74.64387082]\n",
            " [101.47485137]\n",
            " [ 12.34114115]\n",
            " [ 95.51148212]\n",
            " [ 47.04023446]\n",
            " [ 74.64387082]\n",
            " [101.47485137]\n",
            " [ 12.34114115]\n",
            " [ 95.51148212]\n",
            " [ 47.04023446]\n",
            " [ 74.64387082]\n",
            " [101.47485137]\n",
            " [ 12.34114115]\n",
            " [ 95.51148212]]\n",
            "Targets:\n",
            " [[ 56.]\n",
            " [ 81.]\n",
            " [119.]\n",
            " [ 22.]\n",
            " [103.]\n",
            " [ 56.]\n",
            " [ 81.]\n",
            " [119.]\n",
            " [ 22.]\n",
            " [103.]\n",
            " [ 56.]\n",
            " [ 81.]\n",
            " [119.]\n",
            " [ 22.]\n",
            " [103.]]\n"
          ]
        }
      ]
    },
    {
      "cell_type": "code",
      "metadata": {
        "colab": {
          "base_uri": "https://localhost:8080/"
        },
        "id": "7_EZXczKMH9s",
        "outputId": "859254b6-eba6-4a3e-fa69-4ab09206ec1c"
      },
      "source": [
        "print(\"cost before regression: \",mse_loss)\n",
        "print(\"cost after regression: \",cost_final)\n",
        "print(\"Cost reduction : \",(((mse_loss- cost_final) / mse_loss) * 100),\"%\")"
      ],
      "execution_count": 74,
      "outputs": [
        {
          "output_type": "stream",
          "name": "stdout",
          "text": [
            "cost before regression:  6834.054916830895\n",
            "cost after regression:  115.43601311790844\n",
            "Cost reduction :  98.31087085891551 %\n"
          ]
        }
      ]
    }
  ]
}