{
  "nbformat": 4,
  "nbformat_minor": 0,
  "metadata": {
    "colab": {
      "name": "122_Lab8_01.ipynb",
      "provenance": [],
      "authorship_tag": "ABX9TyOQIA2n92cPePJjXwXpHrmQ"
    },
    "kernelspec": {
      "name": "python3",
      "display_name": "Python 3"
    },
    "language_info": {
      "name": "python"
    }
  },
  "cells": [
    {
      "cell_type": "markdown",
      "metadata": {
        "id": "bhAROVRFuQmP"
      },
      "source": [
        "### **LAB8**\n",
        "### **AIM: Python program to perform K-Means Clustering on Breast Cancer Data**\n",
        "\n",
        "Nirali Shah | CE122"
      ]
    },
    {
      "cell_type": "code",
      "metadata": {
        "id": "CmeNHdUzpwy6"
      },
      "source": [
        "from sklearn.cluster import KMeans\n",
        "from sklearn.datasets import load_breast_cancer"
      ],
      "execution_count": 1,
      "outputs": []
    },
    {
      "cell_type": "code",
      "metadata": {
        "colab": {
          "base_uri": "https://localhost:8080/"
        },
        "id": "xdr0G2Qiwkqg",
        "outputId": "b259be49-6624-4f4c-81dd-d8be6237a1a0"
      },
      "source": [
        "bcancer=load_breast_cancer()\n",
        "bcancer.data.shape"
      ],
      "execution_count": 2,
      "outputs": [
        {
          "output_type": "execute_result",
          "data": {
            "text/plain": [
              "(569, 30)"
            ]
          },
          "metadata": {},
          "execution_count": 2
        }
      ]
    },
    {
      "cell_type": "code",
      "metadata": {
        "colab": {
          "base_uri": "https://localhost:8080/"
        },
        "id": "bWP2C8Fsw3cX",
        "outputId": "6d12e370-f2cb-4922-f104-c6f5d615b65b"
      },
      "source": [
        "kmeans=KMeans(n_clusters=10,random_state=122)\n",
        "predictions=kmeans.fit_predict(bcancer.data)\n",
        "predictions"
      ],
      "execution_count": 6,
      "outputs": [
        {
          "output_type": "execute_result",
          "data": {
            "text/plain": [
              "array([8, 8, 1, 0, 1, 4, 1, 4, 4, 4, 3, 7, 7, 3, 4, 3, 3, 7, 6, 4, 0, 5,\n",
              "       3, 6, 8, 7, 3, 7, 7, 7, 1, 4, 7, 1, 7, 7, 4, 0, 4, 4, 4, 0, 1, 4,\n",
              "       4, 1, 5, 4, 0, 4, 0, 4, 0, 7, 3, 0, 8, 3, 0, 5, 5, 5, 3, 5, 4, 3,\n",
              "       5, 0, 5, 0, 8, 5, 1, 4, 0, 7, 0, 1, 1, 0, 0, 0, 2, 7, 0, 1, 4, 1,\n",
              "       0, 4, 4, 4, 4, 4, 3, 1, 0, 5, 0, 4, 4, 5, 0, 5, 5, 4, 0, 0, 6, 0,\n",
              "       5, 0, 4, 5, 5, 0, 5, 3, 7, 7, 0, 1, 6, 4, 0, 4, 4, 1, 4, 1, 0, 3,\n",
              "       7, 3, 1, 0, 0, 0, 3, 5, 5, 7, 0, 0, 5, 0, 0, 4, 4, 4, 0, 5, 5, 5,\n",
              "       4, 0, 7, 3, 0, 0, 0, 1, 8, 0, 6, 4, 5, 7, 1, 4, 0, 3, 3, 5, 5, 5,\n",
              "       5, 3, 0, 0, 2, 8, 7, 0, 3, 5, 7, 0, 0, 0, 4, 0, 5, 4, 4, 0, 4, 7,\n",
              "       1, 3, 0, 7, 8, 3, 0, 3, 5, 7, 0, 3, 1, 0, 2, 3, 4, 4, 0, 5, 8, 6,\n",
              "       4, 4, 5, 3, 4, 4, 5, 4, 0, 4, 7, 0, 0, 8, 5, 4, 2, 1, 4, 7, 4, 0,\n",
              "       0, 4, 1, 5, 0, 0, 5, 0, 8, 0, 8, 7, 8, 4, 8, 3, 7, 3, 8, 7, 7, 3,\n",
              "       7, 2, 5, 4, 0, 5, 4, 0, 6, 5, 7, 0, 0, 7, 4, 4, 1, 0, 1, 3, 0, 0,\n",
              "       0, 0, 5, 0, 4, 4, 0, 0, 0, 4, 5, 0, 4, 5, 8, 0, 1, 5, 0, 0, 0, 5,\n",
              "       4, 4, 0, 4, 0, 0, 5, 0, 0, 1, 5, 0, 5, 1, 0, 8, 0, 0, 4, 0, 3, 3,\n",
              "       3, 0, 5, 0, 0, 7, 0, 8, 5, 2, 4, 5, 5, 1, 0, 5, 0, 3, 0, 0, 0, 3,\n",
              "       2, 3, 0, 0, 0, 4, 5, 5, 0, 0, 0, 3, 4, 8, 1, 0, 2, 6, 7, 4, 1, 8,\n",
              "       4, 3, 5, 4, 4, 0, 0, 5, 0, 0, 0, 4, 0, 4, 0, 7, 5, 5, 7, 8, 0, 4,\n",
              "       4, 0, 0, 0, 7, 0, 0, 0, 0, 0, 3, 0, 7, 0, 0, 0, 5, 3, 3, 0, 5, 1,\n",
              "       0, 0, 0, 4, 0, 4, 5, 5, 5, 0, 5, 0, 4, 0, 1, 1, 4, 4, 0, 4, 4, 4,\n",
              "       0, 7, 4, 5, 7, 0, 7, 4, 4, 8, 0, 1, 0, 4, 0, 4, 0, 0, 0, 5, 1, 9,\n",
              "       4, 0, 4, 4, 4, 5, 7, 0, 5, 0, 3, 0, 5, 0, 4, 4, 0, 3, 0, 4, 4, 4,\n",
              "       3, 0, 4, 1, 0, 3, 0, 7, 7, 0, 4, 4, 0, 0, 1, 1, 4, 4, 0, 2, 5, 5,\n",
              "       0, 5, 3, 3, 0, 4, 4, 4, 3, 0, 1, 1, 0, 0, 5, 2, 5, 4, 5, 5, 4, 0,\n",
              "       4, 0, 0, 0, 4, 1, 5, 8, 4, 0, 5, 5, 0, 4, 4, 0, 4, 4, 5, 5, 5, 0,\n",
              "       5, 5, 0, 5, 0, 5, 5, 5, 4, 0, 4, 5, 3, 8, 8, 1, 3, 8, 5],\n",
              "      dtype=int32)"
            ]
          },
          "metadata": {},
          "execution_count": 6
        }
      ]
    },
    {
      "cell_type": "code",
      "metadata": {
        "colab": {
          "base_uri": "https://localhost:8080/"
        },
        "id": "mr5SwuVuxTFE",
        "outputId": "db1c57b5-22e3-492c-ec3d-d89d0fd5ab66"
      },
      "source": [
        "print(len(predictions))\n",
        "kmeans.cluster_centers_.shape"
      ],
      "execution_count": 8,
      "outputs": [
        {
          "output_type": "stream",
          "name": "stdout",
          "text": [
            "569\n"
          ]
        },
        {
          "output_type": "execute_result",
          "data": {
            "text/plain": [
              "(10, 30)"
            ]
          },
          "metadata": {},
          "execution_count": 8
        }
      ]
    },
    {
      "cell_type": "code",
      "metadata": {
        "colab": {
          "base_uri": "https://localhost:8080/",
          "height": 197
        },
        "id": "YHvdUWuQxnzq",
        "outputId": "b0063b5b-da02-4928-9ca4-82153df81f53"
      },
      "source": [
        "import matplotlib.pyplot as plt\n",
        "\n",
        "fig,ax=plt.subplots(2,5,figsize=(8,3))\n",
        "centers=kmeans.cluster_centers_.reshape(10,10,3)\n",
        "for axi,center in zip(ax.flat,centers):\n",
        "  axi.set(xticks=[],yticks=[])\n",
        "  axi.imshow(center,interpolation='nearest',cmap=plt.cm.binary)"
      ],
      "execution_count": 17,
      "outputs": [
        {
          "output_type": "display_data",
          "data": {
            "image/png": "[encoded data removed]",
            "text/plain": [
              "<Figure size 576x216 with 10 Axes>"
            ]
          },
          "metadata": {}
        }
      ]
    },
    {
      "cell_type": "code",
      "metadata": {
        "id": "QBycbQfZHOFU"
      },
      "source": [
        "import numpy as np\n",
        "from scipy.stats import mode\n",
        "\n",
        "labels=np.zeros_like(predictions)\n",
        "for i in range(10):\n",
        "  mask=(predictions==i)\n",
        "  labels[mask]=mode(bcancer.target[mask])[0]"
      ],
      "execution_count": 10,
      "outputs": []
    },
    {
      "cell_type": "code",
      "metadata": {
        "colab": {
          "base_uri": "https://localhost:8080/"
        },
        "id": "IjWjp2R8JjV_",
        "outputId": "8a7299dd-7523-4c60-d467-c973d5782c8a"
      },
      "source": [
        "from sklearn.metrics import accuracy_score\n",
        "accuracy_score(bcancer.target, labels)"
      ],
      "execution_count": 11,
      "outputs": [
        {
          "output_type": "execute_result",
          "data": {
            "text/plain": [
              "0.9068541300527241"
            ]
          },
          "metadata": {},
          "execution_count": 11
        }
      ]
    },
    {
      "cell_type": "code",
      "metadata": {
        "colab": {
          "base_uri": "https://localhost:8080/",
          "height": 297
        },
        "id": "7Oqz7joyJxl5",
        "outputId": "7b02bb34-7778-41d8-df24-bf9480103edc"
      },
      "source": [
        "from sklearn.metrics import confusion_matrix\n",
        "import seaborn as sns\n",
        "\n",
        "mat=confusion_matrix(bcancer.target,labels)\n",
        "ax=sns.heatmap(mat.T,square=True,annot=True,fmt='d',cbar=False,\n",
        "               xticklabels=bcancer.target_names,yticklabels=bcancer.target_names)\n",
        "ax.set_ylim(2.0,0)\n",
        "plt.xlabel('true label')\n",
        "plt.ylabel('predicted label')"
      ],
      "execution_count": 13,
      "outputs": [
        {
          "output_type": "execute_result",
          "data": {
            "text/plain": [
              "Text(91.68, 0.5, 'predicted label')"
            ]
          },
          "metadata": {},
          "execution_count": 13
        },
        {
          "output_type": "display_data",
          "data": {
            "image/png": "[encoded data removed]",
            "text/plain": [
              "<Figure size 432x288 with 1 Axes>"
            ]
          },
          "metadata": {
            "needs_background": "light"
          }
        }
      ]
    }
  ]
}