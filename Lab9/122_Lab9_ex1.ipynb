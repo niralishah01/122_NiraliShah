{
  "nbformat": 4,
  "nbformat_minor": 0,
  "metadata": {
    "colab": {
      "name": "122_Lab9_ex1.ipynb",
      "provenance": [],
      "authorship_tag": "ABX9TyNDuGcEhzZKe/m/vmaEGzjA"
    },
    "kernelspec": {
      "name": "python3",
      "display_name": "Python 3"
    },
    "language_info": {
      "name": "python"
    }
  },
  "cells": [
    {
      "cell_type": "markdown",
      "metadata": {
        "id": "qMvORq3HZjbh"
      },
      "source": [
        "**LAB9**\n",
        "\n",
        "**AIM: SVM classifier on MNIST dataset, compare the preformance of linear, polynomial and RBF kernels.**\n",
        "\n",
        "Nirali Shah | CE122"
      ]
    },
    {
      "cell_type": "code",
      "metadata": {
        "id": "MYD35X90ZcxY"
      },
      "source": [
        "import matplotlib.pyplot as plt\n",
        "from sklearn import svm\n",
        "from sklearn.model_selection import train_test_split\n",
        "import numpy as np\n",
        "import seaborn as sb\n",
        "import matplotlib.pyplot as plt\n"
      ],
      "execution_count": 1,
      "outputs": []
    },
    {
      "cell_type": "code",
      "metadata": {
        "colab": {
          "base_uri": "https://localhost:8080/"
        },
        "id": "LXL9RFw7ajWh",
        "outputId": "0ec2f8e8-7a1e-44f2-d94e-1efc26eb60d0"
      },
      "source": [
        "from sklearn import datasets\n",
        "\n",
        "mnist=datasets.load_digits()\n",
        "# print(\"Features: \",mnist.)\n",
        "print(\"Targets: \",mnist.target_names)"
      ],
      "execution_count": 3,
      "outputs": [
        {
          "output_type": "stream",
          "name": "stdout",
          "text": [
            "Targets:  [0 1 2 3 4 5 6 7 8 9]\n"
          ]
        }
      ]
    },
    {
      "cell_type": "code",
      "metadata": {
        "colab": {
          "base_uri": "https://localhost:8080/"
        },
        "id": "Lx-QVyGNbkmR",
        "outputId": "c96d2591-35f3-4265-e508-be65638ca07b"
      },
      "source": [
        "mnist.data.shape"
      ],
      "execution_count": 6,
      "outputs": [
        {
          "output_type": "execute_result",
          "data": {
            "text/plain": [
              "(1797, 64)"
            ]
          },
          "metadata": {},
          "execution_count": 6
        }
      ]
    },
    {
      "cell_type": "code",
      "metadata": {
        "colab": {
          "base_uri": "https://localhost:8080/"
        },
        "id": "ligh42qCbqob",
        "outputId": "1622d38d-29fb-48ad-9ac8-2f2c9776610a"
      },
      "source": [
        "print(mnist.target)"
      ],
      "execution_count": 7,
      "outputs": [
        {
          "output_type": "stream",
          "name": "stdout",
          "text": [
            "[0 1 2 ... 8 9 8]\n"
          ]
        }
      ]
    },
    {
      "cell_type": "code",
      "metadata": {
        "id": "kN0mIY_mbtdC"
      },
      "source": [
        "X_train,X_test,Y_train,Y_test=train_test_split(mnist.data,mnist.target,test_size=0.2,random_state=122)"
      ],
      "execution_count": 9,
      "outputs": []
    },
    {
      "cell_type": "code",
      "metadata": {
        "colab": {
          "base_uri": "https://localhost:8080/"
        },
        "id": "ReeBrmLidAIk",
        "outputId": "355bd85f-5c54-486a-f98f-afd7cef4d0a2"
      },
      "source": [
        "\n",
        "clf_linear = svm.SVC(kernel='linear',random_state=122) # Linear Kernel\n",
        "clf_linear.fit(X_train,Y_train)\n",
        "#Predict the response for test dataset\n",
        "y_pred_linear = clf_linear.predict(X_test)\n",
        "print(y_pred_linear)"
      ],
      "execution_count": 12,
      "outputs": [
        {
          "output_type": "stream",
          "name": "stdout",
          "text": [
            "[4 3 6 8 0 0 9 6 3 5 9 9 5 6 7 0 1 1 5 4 4 3 2 6 1 3 9 9 2 7 8 1 6 0 5 4 5\n",
            " 5 3 2 9 1 1 6 5 4 6 2 6 8 9 6 7 7 9 0 6 9 4 2 5 7 0 2 1 3 0 0 3 9 5 6 4 1\n",
            " 5 2 0 7 6 9 2 7 0 3 8 0 4 2 6 2 2 7 9 3 1 2 9 2 1 6 0 2 8 1 4 4 7 4 8 5 0\n",
            " 4 0 4 5 1 7 6 0 4 5 4 6 4 0 2 2 7 3 1 7 7 8 7 3 1 0 6 5 2 2 0 8 2 8 6 4 5\n",
            " 7 6 2 2 7 4 9 6 0 6 6 4 2 3 8 3 8 9 9 8 7 7 6 8 8 3 5 4 7 9 6 2 7 5 7 5 7\n",
            " 6 2 5 6 1 8 3 2 1 6 9 5 8 3 5 1 0 3 9 3 1 1 9 3 8 9 1 0 3 2 4 5 0 5 8 5 8\n",
            " 6 1 7 8 9 8 0 0 5 7 3 2 5 1 5 3 5 4 0 8 9 5 0 4 7 4 7 0 0 0 3 6 7 1 4 0 3\n",
            " 0 4 4 6 2 9 1 1 2 0 0 0 9 3 3 1 2 0 3 8 0 3 6 0 5 8 2 9 3 0 8 8 8 9 2 3 6\n",
            " 1 5 4 7 6 6 8 2 7 6 4 7 5 4 1 6 4 3 6 8 8 5 9 4 4 4 9 0 6 6 2 4 5 3 4 2 4\n",
            " 4 5 5 7 7 6 0 2 0 0 9 8 1 1 7 5 8 7 9 4 4 0 2 6 9 0 6]\n"
          ]
        }
      ]
    },
    {
      "cell_type": "code",
      "metadata": {
        "colab": {
          "base_uri": "https://localhost:8080/"
        },
        "id": "E66QVKwcdJ_j",
        "outputId": "ae74a4d4-e801-49bf-f5a6-19f3bff5da02"
      },
      "source": [
        "from sklearn import metrics\n",
        "# Model Accuracy: how often is the classifier correct?\n",
        "print(\"Accuracy:\",metrics.accuracy_score(Y_test, y_pred_linear))\n",
        "# Model Precision: what percentage of positive tuples are labeled as such?\n",
        "print(\"Precision:\",metrics.precision_score(Y_test, y_pred_linear,average='weighted'))\n",
        "# Model Recall: what percentage of positive tuples are labelled as such?\n",
        "print(\"Recall:\",metrics.recall_score(Y_test, y_pred_linear,average='weighted'))"
      ],
      "execution_count": 13,
      "outputs": [
        {
          "output_type": "stream",
          "name": "stdout",
          "text": [
            "Accuracy: 0.9722222222222222\n",
            "Precision: 0.9735507605820105\n",
            "Recall: 0.9722222222222222\n"
          ]
        }
      ]
    },
    {
      "cell_type": "code",
      "metadata": {
        "colab": {
          "base_uri": "https://localhost:8080/",
          "height": 404
        },
        "id": "qD-fhpzldR1M",
        "outputId": "43dead5e-2343-42c5-8ee5-b5f674cd0e15"
      },
      "source": [
        "\n",
        "cm_linear = metrics.confusion_matrix(Y_test, y_pred_linear)\n",
        "plt.subplots(figsize=(10, 6))\n",
        "sb.heatmap(cm_linear, annot = True, fmt = 'g')\n",
        "plt.xlabel(\"Predicted\")\n",
        "plt.ylabel(\"Actual\")\n",
        "plt.title(\"Confusion Matrix\")\n",
        "plt.show()"
      ],
      "execution_count": 24,
      "outputs": [
        {
          "output_type": "display_data",
          "data": {
            "image/png": "[encoded data removed]",
            "text/plain": [
              "<Figure size 720x432 with 2 Axes>"
            ]
          },
          "metadata": {
            "needs_background": "light"
          }
        }
      ]
    },
    {
      "cell_type": "code",
      "metadata": {
        "colab": {
          "base_uri": "https://localhost:8080/"
        },
        "id": "40FVPoxFfldP",
        "outputId": "2373cb98-9785-442f-a8ab-2bb0298b0766"
      },
      "source": [
        "#using rbf kernel\n",
        "clf_rbf = svm.SVC(kernel='rbf',gamma=0.005,random_state=122) # rbf Kernel\n",
        "clf_rbf.fit(X_train,Y_train)\n",
        "#Predict the response for test dataset\n",
        "y_pred_rbf = clf_rbf.predict(X_test)\n",
        "print(y_pred_rbf)"
      ],
      "execution_count": 18,
      "outputs": [
        {
          "output_type": "stream",
          "name": "stdout",
          "text": [
            "[4 3 6 8 0 0 9 6 3 5 9 9 5 8 7 0 1 1 5 4 4 3 2 6 1 3 9 9 2 7 8 1 6 0 5 4 5\n",
            " 5 3 2 9 1 1 6 5 4 6 2 6 8 9 6 7 7 9 0 6 9 4 2 5 7 0 2 1 3 0 0 3 9 5 6 4 1\n",
            " 5 2 0 7 6 9 2 7 0 3 8 0 4 2 6 2 2 7 9 3 8 2 9 2 1 6 0 2 9 1 4 4 7 4 8 5 0\n",
            " 4 0 4 5 1 7 6 0 4 5 4 6 4 0 2 2 7 3 1 7 7 8 7 3 1 0 6 5 2 2 0 8 2 8 6 4 5\n",
            " 7 6 2 2 7 4 9 6 0 6 6 4 2 3 8 3 8 9 9 8 7 7 6 8 8 3 5 4 7 9 6 2 7 5 7 5 7\n",
            " 6 2 5 6 1 8 3 2 1 6 9 5 8 3 8 1 0 3 9 3 1 1 8 3 8 9 1 0 3 2 4 5 0 5 8 5 8\n",
            " 6 1 7 8 9 8 0 0 5 7 3 2 5 1 5 3 5 4 0 8 9 5 0 4 7 4 7 8 0 0 3 6 7 8 4 0 3\n",
            " 0 4 8 6 2 9 1 8 2 0 0 0 9 3 3 8 2 0 3 8 0 3 6 0 5 8 2 9 3 0 8 8 8 9 2 3 6\n",
            " 1 5 8 7 6 6 8 2 7 6 4 7 5 4 1 6 4 3 6 8 8 5 9 4 4 4 9 0 6 6 2 4 5 3 4 2 4\n",
            " 4 5 5 7 7 5 0 2 0 0 3 8 1 1 7 5 8 7 9 4 4 0 2 6 9 0 6]\n"
          ]
        }
      ]
    },
    {
      "cell_type": "code",
      "metadata": {
        "colab": {
          "base_uri": "https://localhost:8080/"
        },
        "id": "rKvQ8N6-hecI",
        "outputId": "296e18dd-d4d0-403c-ee22-0c8fd52a5908"
      },
      "source": [
        "# Model Accuracy: how often is the classifier correct?\n",
        "print(\"Accuracy:\",metrics.accuracy_score(Y_test, y_pred_rbf))\n",
        "# Model Precision: what percentage of positive tuples are labeled as such?\n",
        "print(\"Precision:\",metrics.precision_score(Y_test, y_pred_rbf,average='weighted'))\n",
        "# Model Recall: what percentage of positive tuples are labelled as such?\n",
        "print(\"Recall:\",metrics.recall_score(Y_test, y_pred_rbf,average='weighted'))"
      ],
      "execution_count": 19,
      "outputs": [
        {
          "output_type": "stream",
          "name": "stdout",
          "text": [
            "Accuracy: 0.975\n",
            "Precision: 0.9804878048780489\n",
            "Recall: 0.975\n"
          ]
        }
      ]
    },
    {
      "cell_type": "code",
      "metadata": {
        "colab": {
          "base_uri": "https://localhost:8080/",
          "height": 404
        },
        "id": "lPbNS_7VkZXS",
        "outputId": "b3d75c2c-f5a1-438c-e102-8aee63c25578"
      },
      "source": [
        "cm_rbf = metrics.confusion_matrix(Y_test, y_pred_rbf)\n",
        "plt.subplots(figsize=(10, 6))\n",
        "sb.heatmap(cm_rbf, annot = True, fmt = 'g')\n",
        "plt.xlabel(\"Predicted\")\n",
        "plt.ylabel(\"Actual\")\n",
        "plt.title(\"Confusion Matrix\")\n",
        "plt.show()"
      ],
      "execution_count": 25,
      "outputs": [
        {
          "output_type": "display_data",
          "data": {
            "image/png": "[encoded data removed]",
            "text/plain": [
              "<Figure size 720x432 with 2 Axes>"
            ]
          },
          "metadata": {
            "needs_background": "light"
          }
        }
      ]
    },
    {
      "cell_type": "code",
      "metadata": {
        "colab": {
          "base_uri": "https://localhost:8080/"
        },
        "id": "697Q_V94iPyP",
        "outputId": "db19fc1f-aef9-45c7-bf11-b13d0e2b55c2"
      },
      "source": [
        "#using poly kernel\n",
        "clf_poly = svm.SVC(kernel='poly',degree=3,random_state=122) # poly Kernel\n",
        "clf_poly.fit(X_train,Y_train)\n",
        "#Predict the response for test dataset\n",
        "y_pred_poly = clf_poly.predict(X_test)\n",
        "print(y_pred_poly)"
      ],
      "execution_count": 21,
      "outputs": [
        {
          "output_type": "stream",
          "name": "stdout",
          "text": [
            "[4 3 6 8 0 0 9 6 3 5 9 9 5 6 7 0 1 1 5 4 4 3 2 6 1 3 9 9 2 7 8 1 6 0 5 4 5\n",
            " 5 3 2 9 1 1 6 5 4 6 2 6 8 9 6 7 7 9 0 6 9 4 2 5 7 0 2 1 3 0 0 3 9 5 6 4 1\n",
            " 5 2 0 7 6 9 2 7 0 3 8 0 4 2 6 2 2 7 9 3 8 2 9 2 1 6 0 2 9 1 4 4 7 4 8 5 0\n",
            " 4 0 4 5 1 7 6 0 4 5 4 6 4 0 2 2 7 3 1 7 7 8 7 3 1 0 6 5 2 2 0 8 2 8 6 4 5\n",
            " 7 6 2 2 7 4 9 6 0 6 6 4 2 3 8 3 8 9 9 8 7 7 6 8 8 3 5 4 7 9 6 2 7 5 7 5 7\n",
            " 6 2 5 6 1 8 3 2 1 6 9 5 8 3 5 1 0 3 9 3 1 1 9 3 8 9 1 0 3 2 4 5 0 5 8 5 8\n",
            " 6 1 7 8 9 8 0 0 5 7 3 2 5 1 5 3 5 4 0 8 9 5 0 4 7 4 7 0 0 0 3 6 7 8 4 0 3\n",
            " 0 4 4 6 2 9 1 1 2 0 0 0 9 3 3 1 2 0 3 8 0 3 6 0 5 8 2 9 3 0 8 8 8 9 2 3 6\n",
            " 1 5 4 7 6 6 8 2 7 6 4 7 5 4 1 6 4 3 6 8 8 5 9 4 4 4 9 0 6 6 2 4 5 3 4 2 4\n",
            " 4 5 5 7 7 6 0 2 0 0 3 8 1 1 7 5 8 7 9 4 4 0 2 6 9 0 6]\n"
          ]
        }
      ]
    },
    {
      "cell_type": "code",
      "metadata": {
        "colab": {
          "base_uri": "https://localhost:8080/"
        },
        "id": "IH2-YeXkjjeZ",
        "outputId": "8bbde279-b37e-434c-a9f0-1ed9cbeb8fcd"
      },
      "source": [
        "# Model Accuracy: how often is the classifier correct?\n",
        "print(\"Accuracy:\",metrics.accuracy_score(Y_test, y_pred_poly))\n",
        "# Model Precision: what percentage of positive tuples are labeled as such?\n",
        "print(\"Precision:\",metrics.precision_score(Y_test, y_pred_poly,average='weighted'))\n",
        "# Model Recall: what percentage of positive tuples are labelled as such?\n",
        "print(\"Recall:\",metrics.recall_score(Y_test, y_pred_poly,average='weighted'))"
      ],
      "execution_count": 22,
      "outputs": [
        {
          "output_type": "stream",
          "name": "stdout",
          "text": [
            "Accuracy: 0.9833333333333333\n",
            "Precision: 0.9837481962481961\n",
            "Recall: 0.9833333333333333\n"
          ]
        }
      ]
    },
    {
      "cell_type": "code",
      "metadata": {
        "id": "YLRjRAy8kpdR",
        "colab": {
          "base_uri": "https://localhost:8080/",
          "height": 404
        },
        "outputId": "eca2c6a3-0f6f-49e0-b3e7-34127a6c0c0d"
      },
      "source": [
        "cm_poly = metrics.confusion_matrix(Y_test, y_pred_poly)\n",
        "plt.subplots(figsize=(10, 6))\n",
        "sb.heatmap(cm_poly, annot = True, fmt = 'g')\n",
        "plt.xlabel(\"Predicted\")\n",
        "plt.ylabel(\"Actual\")\n",
        "plt.title(\"Confusion Matrix\")\n",
        "plt.show()"
      ],
      "execution_count": 26,
      "outputs": [
        {
          "output_type": "display_data",
          "data": {
            "image/png": "[encoded data removed]",
            "text/plain": [
              "<Figure size 720x432 with 2 Axes>"
            ]
          },
          "metadata": {
            "needs_background": "light"
          }
        }
      ]
    }
  ]
}