{
  "nbformat": 4,
  "nbformat_minor": 2,
  "metadata": {
    "colab": {
      "name": "Lab3_Task1.ipynb",
      "provenance": [],
      "authorship_tag": "ABX9TyP2/ShmoNQ017awYu9JkRq5"
    },
    "kernelspec": {
      "name": "python3",
      "display_name": "Python 3"
    },
    "language_info": {
      "name": "python"
    }
  },
  "cells": [
    {
      "cell_type": "markdown",
      "source": [
        "### **LAB3**\r\n",
        " **Exercise1**\r\n",
        "### **AIM: Implement Naive Bayes classifier: whether dataset**\r\n",
        "\r\n",
        "Nirali Shah | CE122"
      ],
      "metadata": {}
    },
    {
      "cell_type": "code",
      "execution_count": null,
      "source": [
        "import numpy as np\r\n",
        "import pandas as pd\r\n",
        "import matplotlib.pyplot as plt\r\n",
        "from sklearn import preprocessing\r\n",
        "from sklearn.naive_bayes import GaussianNB, MultinomialNB"
      ],
      "outputs": [],
      "metadata": {
        "id": "UXHke5MfzO5U"
      }
    },
    {
      "cell_type": "code",
      "execution_count": null,
      "source": [
        "from google.colab import drive\r\n",
        "drive.mount('/content/drive')"
      ],
      "outputs": [
        {
          "output_type": "stream",
          "name": "stdout",
          "text": [
            "Mounted at /content/drive\n"
          ]
        }
      ],
      "metadata": {
        "colab": {
          "base_uri": "https://localhost:8080/"
        },
        "id": "mZCVusCiz6N7",
        "outputId": "7d52c7af-058f-4bba-fec6-44859297417d"
      }
    },
    {
      "cell_type": "code",
      "execution_count": 4,
      "source": [
        "dataset=pd.read_csv('/content/drive/MyDrive/SEM7/ML/3/Dataset3.csv')"
      ],
      "outputs": [],
      "metadata": {
        "id": "YREcv4Xw0OLh"
      }
    },
    {
      "cell_type": "code",
      "execution_count": 5,
      "source": [
        "label_encoder = preprocessing.LabelEncoder()\r\n",
        "Y_rows=None\r\n",
        "for data_heading in dataset:\r\n",
        "  if data_heading!=\"Class\":\r\n",
        "    print(f\"\\n\\nHeading :- {data_heading}\")\r\n",
        "    #print(list(dataset[data_heading]))\r\n",
        "    dummy = pd.get_dummies(dataset[data_heading])\r\n",
        "    #print(\"\\n\\nDummy :\\n\",dummy)\r\n",
        "    dataset = dataset.drop([data_heading],axis=1)\r\n",
        "    dataset = pd.concat([dataset,dummy],axis=1)\r\n",
        "    #print(\"\\n\\nFinal Data :\\n\",dataset)\r\n",
        "  else:\r\n",
        "    Y_rows = label_encoder.fit_transform(dataset[data_heading])\r\n",
        "    dataset = dataset.drop([data_heading],axis=1)"
      ],
      "outputs": [
        {
          "output_type": "stream",
          "name": "stdout",
          "text": [
            "\n",
            "\n",
            "Heading :- Outlook\n",
            "\n",
            "\n",
            "Heading :- Temp\n",
            "\n",
            "\n",
            "Heading :- Wind\n",
            "\n",
            "\n",
            "Heading :- Humidity\n"
          ]
        }
      ],
      "metadata": {
        "colab": {
          "base_uri": "https://localhost:8080/"
        },
        "id": "dXzYIDFSYZU-",
        "outputId": "8e2a60ac-feef-47de-afbe-e6b8b678fc61"
      }
    },
    {
      "cell_type": "code",
      "execution_count": 6,
      "source": [
        "print(dataset,Y_rows)"
      ],
      "outputs": [
        {
          "output_type": "stream",
          "name": "stdout",
          "text": [
            "    O  R  S  C  H  M  F  T  0  1  2\n",
            "0   0  1  0  0  1  0  1  0  0  1  0\n",
            "1   0  1  0  0  1  0  0  1  0  0  1\n",
            "2   1  0  0  0  1  0  1  0  0  1  0\n",
            "3   0  1  0  0  0  1  1  0  0  1  0\n",
            "4   0  0  1  1  0  0  1  0  0  1  0\n",
            "5   1  0  0  1  0  0  0  1  1  0  0\n",
            "6   1  0  0  1  0  0  0  1  0  1  0\n",
            "7   0  1  0  0  0  1  1  0  0  1  0\n",
            "8   1  0  0  1  0  0  1  0  1  0  0\n",
            "9   0  0  1  0  0  1  1  0  0  0  1\n",
            "10  0  1  0  1  0  0  0  1  0  0  1\n",
            "11  1  0  0  0  0  1  0  1  1  0  0\n",
            "12  1  0  0  0  1  0  1  0  0  1  0\n",
            "13  0  0  1  0  0  1  0  1  0  1  0 [0 0 1 1 1 0 1 0 1 1 0 1 1 0]\n"
          ]
        }
      ],
      "metadata": {
        "colab": {
          "base_uri": "https://localhost:8080/"
        },
        "id": "sdtOX5JCxyiX",
        "outputId": "c846bd5a-35e6-4714-871c-08a1c7a4bed2"
      }
    },
    {
      "cell_type": "code",
      "execution_count": 21,
      "source": [
        "from sklearn.model_selection import train_test_split\n",
        "X_train, X_test, Y_train, Y_test = train_test_split(dataset, Y_rows, test_size = 0.15, random_state = 122)"
      ],
      "outputs": [],
      "metadata": {
        "id": "lUQygbfNx8Px"
      }
    },
    {
      "cell_type": "code",
      "execution_count": 22,
      "source": [
        "# create model\n",
        "model = MultinomialNB()\n",
        "model.fit(X_train, Y_train)"
      ],
      "outputs": [
        {
          "output_type": "execute_result",
          "data": {
            "text/plain": [
              "MultinomialNB(alpha=1.0, class_prior=None, fit_prior=True)"
            ]
          },
          "metadata": {
            "tags": []
          },
          "execution_count": 22
        }
      ],
      "metadata": {
        "colab": {
          "base_uri": "https://localhost:8080/"
        },
        "id": "bjspAysQyhuQ",
        "outputId": "59496c9c-820a-4071-e62b-0d7b1e27d6cf"
      }
    },
    {
      "cell_type": "code",
      "execution_count": 23,
      "source": [
        "# Predict Y from X_text\n",
        "Y_predicted = model.predict(X_test)\n",
        "print(X_test)\n",
        "print(Y_predicted)"
      ],
      "outputs": [
        {
          "output_type": "stream",
          "name": "stdout",
          "text": [
            "   O  R  S  C  H  M  F  T  0  1  2\n",
            "7  0  1  0  0  0  1  1  0  0  1  0\n",
            "4  0  0  1  1  0  0  1  0  0  1  0\n",
            "8  1  0  0  1  0  0  1  0  1  0  0\n",
            "[1 1 1]\n"
          ]
        }
      ],
      "metadata": {
        "colab": {
          "base_uri": "https://localhost:8080/"
        },
        "id": "E8O2HAY60W3t",
        "outputId": "929043c9-a842-4ebd-f58a-3c755d9bfca7"
      }
    },
    {
      "cell_type": "code",
      "execution_count": 24,
      "source": [
        "from sklearn import metrics\n",
        "\n",
        "print(f\"Accuracy is :- {metrics.accuracy_score(Y_test, Y_predicted)}\")\n",
        "\n",
        "# print precision and recall\n",
        "from sklearn.metrics import precision_score\n",
        "from sklearn.metrics import recall_score\n",
        "\n",
        "\n",
        "precision = precision_score(Y_test, Y_predicted)\n",
        "recall = recall_score(Y_test, Y_predicted)\n",
        "\n",
        "\n",
        "print(f\"precision :- {precision}\")\n",
        "print(f\"recall :- {recall}\")"
      ],
      "outputs": [
        {
          "output_type": "stream",
          "name": "stdout",
          "text": [
            "Accuracy is :- 0.6666666666666666\n",
            "precision :- 0.6666666666666666\n",
            "recall :- 1.0\n"
          ]
        }
      ],
      "metadata": {
        "colab": {
          "base_uri": "https://localhost:8080/"
        },
        "id": "e9S1lz5P02aC",
        "outputId": "90681a3a-e760-4c29-b6e0-4178e4192cce"
      }
    },
    {
      "cell_type": "code",
      "execution_count": 25,
      "source": [
        "#outlook(O,R,S) temp(C,H,M) wind(F,T) humidity(L=0,N=1,H=2)\n",
        "\n",
        "#1. outlook=Rainy, temp=mild, humidity=normal, wind=false[(010)(001)(01)(010)]\n",
        "output=model.predict([[0,1,0, 0,0,1, 0,1, 0,1,0]])\n",
        "print(f\"class prediction if outlook=rainy, temperature=mild, humidity=normal, wind=false :- {output}\")\n",
        "\n",
        "#2. outlook=sunny, temp=cool, humidity=high, wind=true[(001)(100)(01)(001)]\n",
        "output=model.predict([[0,0,1, 1,0,0, 0,1, 0,0,1]])\n",
        "print(f\"class prediction if outlook=sunny, temperature=cool, humidity=high, wind=true :- {output}\")"
      ],
      "outputs": [
        {
          "output_type": "stream",
          "name": "stdout",
          "text": [
            "class prediction if outlook=rainy, temperature=mild, humidity=normal, wind=false :- [0]\n",
            "class prediction if outlook=sunny, temperature=cool, humidity=high, wind=true :- [0]\n"
          ]
        }
      ],
      "metadata": {
        "colab": {
          "base_uri": "https://localhost:8080/"
        },
        "id": "p1i5PTNg1UNf",
        "outputId": "7ec309ee-33ef-4536-d78d-e3703539e888"
      }
    }
  ]
}